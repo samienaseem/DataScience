{
 "cells": [
  {
   "cell_type": "markdown",
   "id": "833821c0",
   "metadata": {},
   "source": [
    "### File Operation\n",
    "- Open\n",
    "- Read/ write (File Operation)\n",
    "- Close\n"
   ]
  },
  {
   "cell_type": "code",
   "execution_count": 2,
   "id": "333c7670",
   "metadata": {},
   "outputs": [],
   "source": [
    "f=open('example.txt')"
   ]
  },
  {
   "cell_type": "code",
   "execution_count": 3,
   "id": "a2644fd5",
   "metadata": {},
   "outputs": [
    {
     "data": {
      "text/plain": [
       "<_io.TextIOWrapper name='example.txt' mode='r' encoding='UTF-8'>"
      ]
     },
     "execution_count": 3,
     "metadata": {},
     "output_type": "execute_result"
    }
   ],
   "source": [
    "f"
   ]
  },
  {
   "cell_type": "code",
   "execution_count": 4,
   "id": "3bb54476",
   "metadata": {},
   "outputs": [
    {
     "data": {
      "text/plain": [
       "False"
      ]
     },
     "execution_count": 4,
     "metadata": {},
     "output_type": "execute_result"
    }
   ],
   "source": [
    "## check if file is closed\n",
    "f.closed"
   ]
  },
  {
   "cell_type": "code",
   "execution_count": 7,
   "id": "4eb2c98f",
   "metadata": {},
   "outputs": [],
   "source": [
    "##closing a file\n",
    "f.close()"
   ]
  },
  {
   "cell_type": "code",
   "execution_count": 6,
   "id": "ccdfde68",
   "metadata": {},
   "outputs": [
    {
     "data": {
      "text/plain": [
       "True"
      ]
     },
     "execution_count": 6,
     "metadata": {},
     "output_type": "execute_result"
    }
   ],
   "source": [
    "f.closed"
   ]
  },
  {
   "cell_type": "markdown",
   "id": "901117f8",
   "metadata": {},
   "source": [
    "### Context Manager (With)"
   ]
  },
  {
   "cell_type": "code",
   "execution_count": 8,
   "id": "789929b9",
   "metadata": {},
   "outputs": [
    {
     "name": "stdout",
     "output_type": "stream",
     "text": [
      "inside : False\n",
      "outside:  True\n"
     ]
    }
   ],
   "source": [
    "#it take care of closing the file on its own\n",
    "with open('example.txt','w') as f:\n",
    "    print('inside :',f.closed)\n",
    "\n",
    "print(\"outside: \",f.closed)"
   ]
  },
  {
   "cell_type": "markdown",
   "id": "8db49b01",
   "metadata": {},
   "source": [
    "## Writing a file "
   ]
  },
  {
   "cell_type": "code",
   "execution_count": 23,
   "id": "56f6b52b",
   "metadata": {},
   "outputs": [
    {
     "name": "stdout",
     "output_type": "stream",
     "text": [
      "27\n"
     ]
    }
   ],
   "source": [
    "with open('test.txt','w') as f:\n",
    "    f.write('This file is made by python \\n')\n",
    "    r1=f.write('Python programming is fun \\n')\n",
    "    \n",
    "    print(r1)"
   ]
  },
  {
   "cell_type": "markdown",
   "id": "69cfc273",
   "metadata": {},
   "source": [
    "## Reading a file\n"
   ]
  },
  {
   "cell_type": "code",
   "execution_count": 24,
   "id": "13f853f2",
   "metadata": {},
   "outputs": [
    {
     "name": "stdout",
     "output_type": "stream",
     "text": [
      "This file is made by python \n",
      "Python programming is fun \n",
      "\n"
     ]
    }
   ],
   "source": [
    " with open('test.txt','r') as f:\n",
    "        data=f.read()\n",
    "        print(data)"
   ]
  },
  {
   "cell_type": "code",
   "execution_count": 26,
   "id": "bb4b1c89",
   "metadata": {},
   "outputs": [
    {
     "name": "stdout",
     "output_type": "stream",
     "text": [
      "This \n",
      "file\n"
     ]
    }
   ],
   "source": [
    "with open('test.txt','r') as f:\n",
    "        data=f.read(5)\n",
    "        print(data)\n",
    "        \n",
    "        next_data=f.read(4)\n",
    "        print(next_data)"
   ]
  },
  {
   "cell_type": "markdown",
   "id": "dcbe3b67",
   "metadata": {},
   "source": [
    "### File Pointer\n",
    "`f.tell()` `f.seek()`"
   ]
  },
  {
   "cell_type": "code",
   "execution_count": 31,
   "id": "5a61c0f3",
   "metadata": {},
   "outputs": [
    {
     "name": "stdout",
     "output_type": "stream",
     "text": [
      "This \n",
      "5\n",
      "file\n",
      "9\n",
      " is made by python \n",
      "Python programming is fun \n",
      "\n",
      "This file is made by python \n",
      "Python programming is fun \n",
      "\n"
     ]
    }
   ],
   "source": [
    "with open('test.txt','r') as f:\n",
    "        data=f.read(5)\n",
    "        print(data)\n",
    "        \n",
    "        print(f.tell())\n",
    "        \n",
    "        next_data=f.read(4)\n",
    "        print(next_data)\n",
    "        \n",
    "        print(f.tell())\n",
    "        \n",
    "        print(f.read())\n",
    "        \n",
    "        f.seek(0)\n",
    "        \n",
    "        print(f.read())"
   ]
  },
  {
   "cell_type": "code",
   "execution_count": 33,
   "id": "12d94aba",
   "metadata": {},
   "outputs": [
    {
     "name": "stdout",
     "output_type": "stream",
     "text": [
      "This file is made by python \n",
      "\n"
     ]
    }
   ],
   "source": [
    "with open('test.txt','r') as f:\n",
    "    print(f.readline())"
   ]
  },
  {
   "cell_type": "code",
   "execution_count": 34,
   "id": "f53d59b5",
   "metadata": {},
   "outputs": [
    {
     "name": "stdout",
     "output_type": "stream",
     "text": [
      "['This file is made by python \\n', 'Python programming is fun \\n']\n"
     ]
    }
   ],
   "source": [
    "with open('test.txt','r') as f:\n",
    "    print(f.readlines())"
   ]
  },
  {
   "cell_type": "markdown",
   "id": "019bb3af",
   "metadata": {},
   "source": [
    "### Append to a file\n"
   ]
  },
  {
   "cell_type": "code",
   "execution_count": 36,
   "id": "5ef04f42",
   "metadata": {},
   "outputs": [
    {
     "name": "stdout",
     "output_type": "stream",
     "text": [
      "13\n"
     ]
    }
   ],
   "source": [
    "with open('test.txt','a') as f:\n",
    "    print(f.write('I love python'))\n",
    "    "
   ]
  },
  {
   "cell_type": "code",
   "execution_count": 37,
   "id": "4390928f",
   "metadata": {},
   "outputs": [
    {
     "name": "stdout",
     "output_type": "stream",
     "text": [
      "This file is made by python \n",
      "Python programming is fun \n",
      "I love python\n"
     ]
    }
   ],
   "source": [
    "with open('test.txt','r') as f:\n",
    "    print(f.read())"
   ]
  },
  {
   "cell_type": "markdown",
   "id": "84385f07",
   "metadata": {},
   "source": [
    "### Binary file\n"
   ]
  },
  {
   "cell_type": "code",
   "execution_count": 39,
   "id": "0c384a34",
   "metadata": {},
   "outputs": [],
   "source": [
    "DIC={\n",
    "    '101':40000,\n",
    "    '102':50000,\n",
    "    '105':56000\n",
    "}"
   ]
  },
  {
   "cell_type": "code",
   "execution_count": 46,
   "id": "31fd5d57",
   "metadata": {},
   "outputs": [
    {
     "name": "stdout",
     "output_type": "stream",
     "text": [
      "42\n"
     ]
    }
   ],
   "source": [
    "with open('binary.bin','wb') as f:\n",
    "    print(f.write(bytes(str(DIC),\"utf-8\")))"
   ]
  },
  {
   "cell_type": "code",
   "execution_count": 42,
   "id": "6346c480",
   "metadata": {},
   "outputs": [
    {
     "data": {
      "text/plain": [
       "b\"{'101': 40000, '102': 50000, '105': 56000}\""
      ]
     },
     "execution_count": 42,
     "metadata": {},
     "output_type": "execute_result"
    }
   ],
   "source": [
    "bytes(str(DIC),\"utf8\")"
   ]
  },
  {
   "cell_type": "code",
   "execution_count": 47,
   "id": "a2f3de68",
   "metadata": {},
   "outputs": [
    {
     "name": "stdout",
     "output_type": "stream",
     "text": [
      "b\"{'101': 40000, '102': 50000, '105': 56000}\"\n"
     ]
    }
   ],
   "source": [
    "with open('binary.bin','rb') as f:\n",
    "    print(f.read())"
   ]
  },
  {
   "cell_type": "code",
   "execution_count": null,
   "id": "8ebaf249",
   "metadata": {},
   "outputs": [],
   "source": []
  },
  {
   "cell_type": "code",
   "execution_count": null,
   "id": "4a596913",
   "metadata": {},
   "outputs": [],
   "source": []
  },
  {
   "cell_type": "code",
   "execution_count": null,
   "id": "659ea0a5",
   "metadata": {},
   "outputs": [],
   "source": []
  },
  {
   "cell_type": "code",
   "execution_count": null,
   "id": "60988bd5",
   "metadata": {},
   "outputs": [],
   "source": []
  },
  {
   "cell_type": "code",
   "execution_count": null,
   "id": "9dc37446",
   "metadata": {},
   "outputs": [],
   "source": []
  },
  {
   "cell_type": "code",
   "execution_count": null,
   "id": "9394d3de",
   "metadata": {},
   "outputs": [],
   "source": []
  },
  {
   "cell_type": "code",
   "execution_count": null,
   "id": "e9de2502",
   "metadata": {},
   "outputs": [],
   "source": []
  },
  {
   "cell_type": "code",
   "execution_count": null,
   "id": "1c699d43",
   "metadata": {},
   "outputs": [],
   "source": []
  },
  {
   "cell_type": "code",
   "execution_count": null,
   "id": "7a4df730",
   "metadata": {},
   "outputs": [],
   "source": []
  },
  {
   "cell_type": "code",
   "execution_count": null,
   "id": "de2d207f",
   "metadata": {},
   "outputs": [],
   "source": []
  }
 ],
 "metadata": {
  "kernelspec": {
   "display_name": "Python 3 (ipykernel)",
   "language": "python",
   "name": "python3"
  },
  "language_info": {
   "codemirror_mode": {
    "name": "ipython",
    "version": 3
   },
   "file_extension": ".py",
   "mimetype": "text/x-python",
   "name": "python",
   "nbconvert_exporter": "python",
   "pygments_lexer": "ipython3",
   "version": "3.11.5"
  }
 },
 "nbformat": 4,
 "nbformat_minor": 5
}
