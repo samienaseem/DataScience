{
 "cells": [
  {
   "cell_type": "code",
   "execution_count": 1,
   "id": "c85f5d1b",
   "metadata": {},
   "outputs": [],
   "source": [
    "import pandas as pd\n",
    "import numpy as np\n",
    "import matplotlib.pyplot as plt\n",
    "import seaborn as sn"
   ]
  },
  {
   "cell_type": "code",
   "execution_count": 9,
   "id": "3e7cb873-0d4e-4d8d-94da-20faaa8e900b",
   "metadata": {},
   "outputs": [],
   "source": [
    "data=pd.read_csv('marketing_data.csv')"
   ]
  },
  {
   "cell_type": "code",
   "execution_count": 10,
   "id": "170e64bd",
   "metadata": {},
   "outputs": [
    {
     "data": {
      "text/html": [
       "<div>\n",
       "<style scoped>\n",
       "    .dataframe tbody tr th:only-of-type {\n",
       "        vertical-align: middle;\n",
       "    }\n",
       "\n",
       "    .dataframe tbody tr th {\n",
       "        vertical-align: top;\n",
       "    }\n",
       "\n",
       "    .dataframe thead th {\n",
       "        text-align: right;\n",
       "    }\n",
       "</style>\n",
       "<table border=\"1\" class=\"dataframe\">\n",
       "  <thead>\n",
       "    <tr style=\"text-align: right;\">\n",
       "      <th></th>\n",
       "      <th>ID</th>\n",
       "      <th>Year_Birth</th>\n",
       "      <th>Education</th>\n",
       "      <th>Marital_Status</th>\n",
       "      <th>Income</th>\n",
       "      <th>Kidhome</th>\n",
       "      <th>Teenhome</th>\n",
       "      <th>Dt_Customer</th>\n",
       "      <th>Recency</th>\n",
       "      <th>MntWines</th>\n",
       "      <th>...</th>\n",
       "      <th>NumStorePurchases</th>\n",
       "      <th>NumWebVisitsMonth</th>\n",
       "      <th>AcceptedCmp3</th>\n",
       "      <th>AcceptedCmp4</th>\n",
       "      <th>AcceptedCmp5</th>\n",
       "      <th>AcceptedCmp1</th>\n",
       "      <th>AcceptedCmp2</th>\n",
       "      <th>Response</th>\n",
       "      <th>Complain</th>\n",
       "      <th>Country</th>\n",
       "    </tr>\n",
       "  </thead>\n",
       "  <tbody>\n",
       "    <tr>\n",
       "      <th>0</th>\n",
       "      <td>1826</td>\n",
       "      <td>1970</td>\n",
       "      <td>Graduation</td>\n",
       "      <td>Divorced</td>\n",
       "      <td>$84,835.00</td>\n",
       "      <td>0</td>\n",
       "      <td>0</td>\n",
       "      <td>6/16/14</td>\n",
       "      <td>0</td>\n",
       "      <td>189</td>\n",
       "      <td>...</td>\n",
       "      <td>6</td>\n",
       "      <td>1</td>\n",
       "      <td>0</td>\n",
       "      <td>0</td>\n",
       "      <td>0</td>\n",
       "      <td>0</td>\n",
       "      <td>0</td>\n",
       "      <td>1</td>\n",
       "      <td>0</td>\n",
       "      <td>SP</td>\n",
       "    </tr>\n",
       "    <tr>\n",
       "      <th>1</th>\n",
       "      <td>1</td>\n",
       "      <td>1961</td>\n",
       "      <td>Graduation</td>\n",
       "      <td>Single</td>\n",
       "      <td>$57,091.00</td>\n",
       "      <td>0</td>\n",
       "      <td>0</td>\n",
       "      <td>6/15/14</td>\n",
       "      <td>0</td>\n",
       "      <td>464</td>\n",
       "      <td>...</td>\n",
       "      <td>7</td>\n",
       "      <td>5</td>\n",
       "      <td>0</td>\n",
       "      <td>0</td>\n",
       "      <td>0</td>\n",
       "      <td>0</td>\n",
       "      <td>1</td>\n",
       "      <td>1</td>\n",
       "      <td>0</td>\n",
       "      <td>CA</td>\n",
       "    </tr>\n",
       "    <tr>\n",
       "      <th>2</th>\n",
       "      <td>10476</td>\n",
       "      <td>1958</td>\n",
       "      <td>Graduation</td>\n",
       "      <td>Married</td>\n",
       "      <td>$67,267.00</td>\n",
       "      <td>0</td>\n",
       "      <td>1</td>\n",
       "      <td>5/13/14</td>\n",
       "      <td>0</td>\n",
       "      <td>134</td>\n",
       "      <td>...</td>\n",
       "      <td>5</td>\n",
       "      <td>2</td>\n",
       "      <td>0</td>\n",
       "      <td>0</td>\n",
       "      <td>0</td>\n",
       "      <td>0</td>\n",
       "      <td>0</td>\n",
       "      <td>0</td>\n",
       "      <td>0</td>\n",
       "      <td>US</td>\n",
       "    </tr>\n",
       "    <tr>\n",
       "      <th>3</th>\n",
       "      <td>1386</td>\n",
       "      <td>1967</td>\n",
       "      <td>Graduation</td>\n",
       "      <td>Together</td>\n",
       "      <td>$32,474.00</td>\n",
       "      <td>1</td>\n",
       "      <td>1</td>\n",
       "      <td>5/11/14</td>\n",
       "      <td>0</td>\n",
       "      <td>10</td>\n",
       "      <td>...</td>\n",
       "      <td>2</td>\n",
       "      <td>7</td>\n",
       "      <td>0</td>\n",
       "      <td>0</td>\n",
       "      <td>0</td>\n",
       "      <td>0</td>\n",
       "      <td>0</td>\n",
       "      <td>0</td>\n",
       "      <td>0</td>\n",
       "      <td>AUS</td>\n",
       "    </tr>\n",
       "    <tr>\n",
       "      <th>4</th>\n",
       "      <td>5371</td>\n",
       "      <td>1989</td>\n",
       "      <td>Graduation</td>\n",
       "      <td>Single</td>\n",
       "      <td>$21,474.00</td>\n",
       "      <td>1</td>\n",
       "      <td>0</td>\n",
       "      <td>4/8/14</td>\n",
       "      <td>0</td>\n",
       "      <td>6</td>\n",
       "      <td>...</td>\n",
       "      <td>2</td>\n",
       "      <td>7</td>\n",
       "      <td>1</td>\n",
       "      <td>0</td>\n",
       "      <td>0</td>\n",
       "      <td>0</td>\n",
       "      <td>0</td>\n",
       "      <td>1</td>\n",
       "      <td>0</td>\n",
       "      <td>SP</td>\n",
       "    </tr>\n",
       "  </tbody>\n",
       "</table>\n",
       "<p>5 rows × 28 columns</p>\n",
       "</div>"
      ],
      "text/plain": [
       "      ID  Year_Birth   Education Marital_Status      Income   Kidhome  \\\n",
       "0   1826        1970  Graduation       Divorced  $84,835.00         0   \n",
       "1      1        1961  Graduation         Single  $57,091.00         0   \n",
       "2  10476        1958  Graduation        Married  $67,267.00         0   \n",
       "3   1386        1967  Graduation       Together  $32,474.00         1   \n",
       "4   5371        1989  Graduation         Single  $21,474.00         1   \n",
       "\n",
       "   Teenhome Dt_Customer  Recency  MntWines  ...  NumStorePurchases  \\\n",
       "0         0     6/16/14        0       189  ...                  6   \n",
       "1         0     6/15/14        0       464  ...                  7   \n",
       "2         1     5/13/14        0       134  ...                  5   \n",
       "3         1     5/11/14        0        10  ...                  2   \n",
       "4         0      4/8/14        0         6  ...                  2   \n",
       "\n",
       "   NumWebVisitsMonth  AcceptedCmp3  AcceptedCmp4  AcceptedCmp5  AcceptedCmp1  \\\n",
       "0                  1             0             0             0             0   \n",
       "1                  5             0             0             0             0   \n",
       "2                  2             0             0             0             0   \n",
       "3                  7             0             0             0             0   \n",
       "4                  7             1             0             0             0   \n",
       "\n",
       "   AcceptedCmp2  Response  Complain  Country  \n",
       "0             0         1         0       SP  \n",
       "1             1         1         0       CA  \n",
       "2             0         0         0       US  \n",
       "3             0         0         0      AUS  \n",
       "4             0         1         0       SP  \n",
       "\n",
       "[5 rows x 28 columns]"
      ]
     },
     "execution_count": 10,
     "metadata": {},
     "output_type": "execute_result"
    }
   ],
   "source": [
    "data.head()"
   ]
  },
  {
   "cell_type": "code",
   "execution_count": 11,
   "id": "60c93ccc",
   "metadata": {},
   "outputs": [
    {
     "data": {
      "text/plain": [
       "2216"
      ]
     },
     "execution_count": 11,
     "metadata": {},
     "output_type": "execute_result"
    }
   ],
   "source": [
    "data.value_counts().sum()"
   ]
  },
  {
   "cell_type": "code",
   "execution_count": 13,
   "id": "3a735a47",
   "metadata": {},
   "outputs": [
    {
     "data": {
      "text/plain": [
       "(2240, 28)"
      ]
     },
     "execution_count": 13,
     "metadata": {},
     "output_type": "execute_result"
    }
   ],
   "source": [
    "data.shape"
   ]
  },
  {
   "cell_type": "code",
   "execution_count": 14,
   "id": "4e586766",
   "metadata": {},
   "outputs": [
    {
     "data": {
      "text/plain": [
       "Index(['ID', 'Year_Birth', 'Education', 'Marital_Status', ' Income ',\n",
       "       'Kidhome', 'Teenhome', 'Dt_Customer', 'Recency', 'MntWines',\n",
       "       'MntFruits', 'MntMeatProducts', 'MntFishProducts', 'MntSweetProducts',\n",
       "       'MntGoldProds', 'NumDealsPurchases', 'NumWebPurchases',\n",
       "       'NumCatalogPurchases', 'NumStorePurchases', 'NumWebVisitsMonth',\n",
       "       'AcceptedCmp3', 'AcceptedCmp4', 'AcceptedCmp5', 'AcceptedCmp1',\n",
       "       'AcceptedCmp2', 'Response', 'Complain', 'Country'],\n",
       "      dtype='object')"
      ]
     },
     "execution_count": 14,
     "metadata": {},
     "output_type": "execute_result"
    }
   ],
   "source": [
    "data.columns"
   ]
  },
  {
   "cell_type": "code",
   "execution_count": 15,
   "id": "4dbbb835-b591-4d1c-9d79-ce24012354b5",
   "metadata": {},
   "outputs": [
    {
     "data": {
      "text/plain": [
       "ID                      int64\n",
       "Year_Birth              int64\n",
       "Education              object\n",
       "Marital_Status         object\n",
       " Income                object\n",
       "Kidhome                 int64\n",
       "Teenhome                int64\n",
       "Dt_Customer            object\n",
       "Recency                 int64\n",
       "MntWines                int64\n",
       "MntFruits               int64\n",
       "MntMeatProducts         int64\n",
       "MntFishProducts         int64\n",
       "MntSweetProducts        int64\n",
       "MntGoldProds            int64\n",
       "NumDealsPurchases       int64\n",
       "NumWebPurchases         int64\n",
       "NumCatalogPurchases     int64\n",
       "NumStorePurchases       int64\n",
       "NumWebVisitsMonth       int64\n",
       "AcceptedCmp3            int64\n",
       "AcceptedCmp4            int64\n",
       "AcceptedCmp5            int64\n",
       "AcceptedCmp1            int64\n",
       "AcceptedCmp2            int64\n",
       "Response                int64\n",
       "Complain                int64\n",
       "Country                object\n",
       "dtype: object"
      ]
     },
     "execution_count": 15,
     "metadata": {},
     "output_type": "execute_result"
    }
   ],
   "source": [
    "data.dtypes\n"
   ]
  },
  {
   "cell_type": "markdown",
   "id": "04f9fea7",
   "metadata": {},
   "source": [
    "## Estimation of location\n",
    "`mean/Average` "
   ]
  },
  {
   "cell_type": "code",
   "execution_count": 16,
   "id": "009023c0",
   "metadata": {},
   "outputs": [
    {
     "data": {
      "text/plain": [
       "26.302232142857143"
      ]
     },
     "execution_count": 16,
     "metadata": {},
     "output_type": "execute_result"
    }
   ],
   "source": [
    "data['MntFruits'].mean()"
   ]
  },
  {
   "cell_type": "code",
   "execution_count": 17,
   "id": "7bbc3540",
   "metadata": {},
   "outputs": [
    {
     "data": {
      "text/plain": [
       "27.06294642857143"
      ]
     },
     "execution_count": 17,
     "metadata": {},
     "output_type": "execute_result"
    }
   ],
   "source": [
    "data['MntSweetProducts'].mean()"
   ]
  },
  {
   "cell_type": "code",
   "execution_count": 18,
   "id": "293b08a5",
   "metadata": {},
   "outputs": [
    {
     "data": {
      "text/plain": [
       "44.021875"
      ]
     },
     "execution_count": 18,
     "metadata": {},
     "output_type": "execute_result"
    }
   ],
   "source": [
    "data['MntGoldProds'].mean()"
   ]
  },
  {
   "cell_type": "code",
   "execution_count": 19,
   "id": "262ca649",
   "metadata": {},
   "outputs": [
    {
     "data": {
      "text/plain": [
       "303.9357142857143"
      ]
     },
     "execution_count": 19,
     "metadata": {},
     "output_type": "execute_result"
    }
   ],
   "source": [
    "data['MntWines'].mean()"
   ]
  },
  {
   "cell_type": "markdown",
   "id": "36b28425",
   "metadata": {},
   "source": [
    "### Median"
   ]
  },
  {
   "cell_type": "code",
   "execution_count": 16,
   "id": "fdf71fd7",
   "metadata": {},
   "outputs": [
    {
     "data": {
      "text/plain": [
       "199"
      ]
     },
     "execution_count": 16,
     "metadata": {},
     "output_type": "execute_result"
    }
   ],
   "source": [
    "data['MntFruits'].max()"
   ]
  },
  {
   "cell_type": "code",
   "execution_count": 13,
   "id": "cecf6457",
   "metadata": {},
   "outputs": [
    {
     "data": {
      "text/plain": [
       "8.0"
      ]
     },
     "execution_count": 13,
     "metadata": {},
     "output_type": "execute_result"
    }
   ],
   "source": [
    "data['MntFruits'].median()"
   ]
  },
  {
   "cell_type": "code",
   "execution_count": 17,
   "id": "fce5a3c6",
   "metadata": {},
   "outputs": [
    {
     "data": {
      "text/plain": [
       "262"
      ]
     },
     "execution_count": 17,
     "metadata": {},
     "output_type": "execute_result"
    }
   ],
   "source": [
    "data['MntSweetProducts'].max()"
   ]
  },
  {
   "cell_type": "code",
   "execution_count": 14,
   "id": "2b4c5f9e",
   "metadata": {},
   "outputs": [
    {
     "data": {
      "text/plain": [
       "8.0"
      ]
     },
     "execution_count": 14,
     "metadata": {},
     "output_type": "execute_result"
    }
   ],
   "source": [
    "data['MntSweetProducts'].median()"
   ]
  },
  {
   "cell_type": "code",
   "execution_count": 18,
   "id": "fda5745d",
   "metadata": {},
   "outputs": [
    {
     "data": {
      "text/plain": [
       "321"
      ]
     },
     "execution_count": 18,
     "metadata": {},
     "output_type": "execute_result"
    }
   ],
   "source": [
    "data['MntGoldProds'].max()"
   ]
  },
  {
   "cell_type": "code",
   "execution_count": 15,
   "id": "d90bb2ca",
   "metadata": {},
   "outputs": [
    {
     "data": {
      "text/plain": [
       "25.0"
      ]
     },
     "execution_count": 15,
     "metadata": {},
     "output_type": "execute_result"
    }
   ],
   "source": [
    "data['MntGoldProds'].median()"
   ]
  },
  {
   "cell_type": "code",
   "execution_count": 20,
   "id": "004a7945",
   "metadata": {},
   "outputs": [
    {
     "data": {
      "text/plain": [
       "1493"
      ]
     },
     "execution_count": 20,
     "metadata": {},
     "output_type": "execute_result"
    }
   ],
   "source": [
    "data['MntWines'].max()"
   ]
  },
  {
   "cell_type": "code",
   "execution_count": 19,
   "id": "60e1bf7f",
   "metadata": {},
   "outputs": [
    {
     "data": {
      "text/plain": [
       "178.0"
      ]
     },
     "execution_count": 19,
     "metadata": {},
     "output_type": "execute_result"
    }
   ],
   "source": [
    "data['MntWines'].median()"
   ]
  },
  {
   "cell_type": "markdown",
   "id": "d9a4755e-f060-4f5f-b91e-a6c36b2f840b",
   "metadata": {},
   "source": [
    "### median absolute deviation "
   ]
  },
  {
   "cell_type": "code",
   "execution_count": 20,
   "id": "8dc3d009-87c7-4b0c-8235-a9f7e6e74f62",
   "metadata": {},
   "outputs": [
    {
     "ename": "SyntaxError",
     "evalue": "invalid syntax (731150871.py, line 1)",
     "output_type": "error",
     "traceback": [
      "\u001b[0;36m  Cell \u001b[0;32mIn[20], line 1\u001b[0;36m\u001b[0m\n\u001b[0;31m    Mean Absolute deviation\u001b[0m\n\u001b[0m         ^\u001b[0m\n\u001b[0;31mSyntaxError\u001b[0m\u001b[0;31m:\u001b[0m invalid syntax\n"
     ]
    }
   ],
   "source": [
    "Mean Absolute deviation"
   ]
  },
  {
   "cell_type": "markdown",
   "id": "7433e886-6eca-45a1-ab10-d472d5a0c9ec",
   "metadata": {},
   "source": [
    "## Percentile"
   ]
  },
  {
   "cell_type": "code",
   "execution_count": 9,
   "id": "97766b6f",
   "metadata": {},
   "outputs": [
    {
     "data": {
      "text/plain": [
       "178.0"
      ]
     },
     "execution_count": 9,
     "metadata": {},
     "output_type": "execute_result"
    }
   ],
   "source": [
    "np.percentile(data['MntWines'],50)"
   ]
  },
  {
   "cell_type": "markdown",
   "id": "08c1e3e9-3242-4b9b-b13f-7804ba2ea543",
   "metadata": {},
   "source": [
    "## segratgate customer based on their income"
   ]
  },
  {
   "cell_type": "code",
   "execution_count": 10,
   "id": "ea760cbf",
   "metadata": {},
   "outputs": [
    {
     "data": {
      "text/plain": [
       "0       58138.0\n",
       "1       46344.0\n",
       "2       71613.0\n",
       "3       26646.0\n",
       "4       58293.0\n",
       "         ...   \n",
       "2200    61223.0\n",
       "2201    64014.0\n",
       "2202    56981.0\n",
       "2203    69245.0\n",
       "2204    52869.0\n",
       "Name: Income, Length: 2205, dtype: float64"
      ]
     },
     "execution_count": 10,
     "metadata": {},
     "output_type": "execute_result"
    }
   ],
   "source": [
    "data['Income']"
   ]
  },
  {
   "cell_type": "code",
   "execution_count": 11,
   "id": "d4c54fe2",
   "metadata": {},
   "outputs": [],
   "source": [
    "def extract_income(income):\n",
    "    if isinstance(income,str):\n",
    "        return float(income[1:].replace(',',''))"
   ]
  },
  {
   "cell_type": "code",
   "execution_count": 12,
   "id": "f6eb900c",
   "metadata": {},
   "outputs": [
    {
     "data": {
      "text/plain": [
       "0       None\n",
       "1       None\n",
       "2       None\n",
       "3       None\n",
       "4       None\n",
       "        ... \n",
       "2200    None\n",
       "2201    None\n",
       "2202    None\n",
       "2203    None\n",
       "2204    None\n",
       "Name: Income, Length: 2205, dtype: object"
      ]
     },
     "execution_count": 12,
     "metadata": {},
     "output_type": "execute_result"
    }
   ],
   "source": [
    "data['Income'].apply(extract_income)"
   ]
  },
  {
   "cell_type": "code",
   "execution_count": 14,
   "id": "ed4249c8",
   "metadata": {},
   "outputs": [
    {
     "data": {
      "text/plain": [
       "Income                  float64\n",
       "Kidhome                   int64\n",
       "Teenhome                  int64\n",
       "Recency                   int64\n",
       "MntWines                  int64\n",
       "MntFruits                 int64\n",
       "MntMeatProducts           int64\n",
       "MntFishProducts           int64\n",
       "MntSweetProducts          int64\n",
       "MntGoldProds              int64\n",
       "NumDealsPurchases         int64\n",
       "NumWebPurchases           int64\n",
       "NumCatalogPurchases       int64\n",
       "NumStorePurchases         int64\n",
       "NumWebVisitsMonth         int64\n",
       "AcceptedCmp3              int64\n",
       "AcceptedCmp4              int64\n",
       "AcceptedCmp5              int64\n",
       "AcceptedCmp1              int64\n",
       "AcceptedCmp2              int64\n",
       "Complain                  int64\n",
       "Z_CostContact             int64\n",
       "Z_Revenue                 int64\n",
       "Response                  int64\n",
       "Age                       int64\n",
       "Customer_Days             int64\n",
       "marital_Divorced          int64\n",
       "marital_Married           int64\n",
       "marital_Single            int64\n",
       "marital_Together          int64\n",
       "marital_Widow             int64\n",
       "education_2n Cycle        int64\n",
       "education_Basic           int64\n",
       "education_Graduation      int64\n",
       "education_Master          int64\n",
       "education_PhD             int64\n",
       "MntTotal                  int64\n",
       "MntRegularProds           int64\n",
       "AcceptedCmpOverall        int64\n",
       "dtype: object"
      ]
     },
     "execution_count": 14,
     "metadata": {},
     "output_type": "execute_result"
    }
   ],
   "source": [
    "data.dtypes"
   ]
  },
  {
   "cell_type": "code",
   "execution_count": 17,
   "id": "f6e5374f",
   "metadata": {},
   "outputs": [
    {
     "data": {
      "text/plain": [
       "<Axes: ylabel='Frequency'>"
      ]
     },
     "execution_count": 17,
     "metadata": {},
     "output_type": "execute_result"
    },
    {
     "data": {
      "image/png": "[encoded data removed]",
      "text/plain": [
       "<Figure size 640x480 with 1 Axes>"
      ]
     },
     "metadata": {},
     "output_type": "display_data"
    }
   ],
   "source": [
    "data[\"Income\"].plot.hist(bins=100)"
   ]
  },
  {
   "cell_type": "code",
   "execution_count": 20,
   "id": "2befe6e3",
   "metadata": {},
   "outputs": [
    {
     "data": {
      "text/plain": [
       "<Axes: >"
      ]
     },
     "execution_count": 20,
     "metadata": {},
     "output_type": "execute_result"
    },
    {
     "data": {
      "image/png": "[encoded data removed]",
      "text/plain": [
       "<Figure size 640x480 with 1 Axes>"
      ]
     },
     "metadata": {},
     "output_type": "display_data"
    }
   ],
   "source": [
    "data['Income'].plot.box()"
   ]
  },
  {
   "cell_type": "code",
   "execution_count": 6,
   "id": "375cd924",
   "metadata": {},
   "outputs": [
    {
     "data": {
      "text/html": [
       "<div>\n",
       "<style scoped>\n",
       "    .dataframe tbody tr th:only-of-type {\n",
       "        vertical-align: middle;\n",
       "    }\n",
       "\n",
       "    .dataframe tbody tr th {\n",
       "        vertical-align: top;\n",
       "    }\n",
       "\n",
       "    .dataframe thead th {\n",
       "        text-align: right;\n",
       "    }\n",
       "</style>\n",
       "<table border=\"1\" class=\"dataframe\">\n",
       "  <thead>\n",
       "    <tr style=\"text-align: right;\">\n",
       "      <th></th>\n",
       "      <th>ID</th>\n",
       "      <th>Year_Birth</th>\n",
       "      <th>Education</th>\n",
       "      <th>Marital_Status</th>\n",
       "      <th>Income</th>\n",
       "      <th>Kidhome</th>\n",
       "      <th>Teenhome</th>\n",
       "      <th>Dt_Customer</th>\n",
       "      <th>Recency</th>\n",
       "      <th>MntWines</th>\n",
       "      <th>...</th>\n",
       "      <th>NumStorePurchases</th>\n",
       "      <th>NumWebVisitsMonth</th>\n",
       "      <th>AcceptedCmp3</th>\n",
       "      <th>AcceptedCmp4</th>\n",
       "      <th>AcceptedCmp5</th>\n",
       "      <th>AcceptedCmp1</th>\n",
       "      <th>AcceptedCmp2</th>\n",
       "      <th>Response</th>\n",
       "      <th>Complain</th>\n",
       "      <th>Country</th>\n",
       "    </tr>\n",
       "  </thead>\n",
       "  <tbody>\n",
       "    <tr>\n",
       "      <th>0</th>\n",
       "      <td>1826</td>\n",
       "      <td>1970</td>\n",
       "      <td>Graduation</td>\n",
       "      <td>Divorced</td>\n",
       "      <td>$84,835.00</td>\n",
       "      <td>0</td>\n",
       "      <td>0</td>\n",
       "      <td>6/16/14</td>\n",
       "      <td>0</td>\n",
       "      <td>189</td>\n",
       "      <td>...</td>\n",
       "      <td>6</td>\n",
       "      <td>1</td>\n",
       "      <td>0</td>\n",
       "      <td>0</td>\n",
       "      <td>0</td>\n",
       "      <td>0</td>\n",
       "      <td>0</td>\n",
       "      <td>1</td>\n",
       "      <td>0</td>\n",
       "      <td>SP</td>\n",
       "    </tr>\n",
       "    <tr>\n",
       "      <th>1</th>\n",
       "      <td>1</td>\n",
       "      <td>1961</td>\n",
       "      <td>Graduation</td>\n",
       "      <td>Single</td>\n",
       "      <td>$57,091.00</td>\n",
       "      <td>0</td>\n",
       "      <td>0</td>\n",
       "      <td>6/15/14</td>\n",
       "      <td>0</td>\n",
       "      <td>464</td>\n",
       "      <td>...</td>\n",
       "      <td>7</td>\n",
       "      <td>5</td>\n",
       "      <td>0</td>\n",
       "      <td>0</td>\n",
       "      <td>0</td>\n",
       "      <td>0</td>\n",
       "      <td>1</td>\n",
       "      <td>1</td>\n",
       "      <td>0</td>\n",
       "      <td>CA</td>\n",
       "    </tr>\n",
       "    <tr>\n",
       "      <th>2</th>\n",
       "      <td>10476</td>\n",
       "      <td>1958</td>\n",
       "      <td>Graduation</td>\n",
       "      <td>Married</td>\n",
       "      <td>$67,267.00</td>\n",
       "      <td>0</td>\n",
       "      <td>1</td>\n",
       "      <td>5/13/14</td>\n",
       "      <td>0</td>\n",
       "      <td>134</td>\n",
       "      <td>...</td>\n",
       "      <td>5</td>\n",
       "      <td>2</td>\n",
       "      <td>0</td>\n",
       "      <td>0</td>\n",
       "      <td>0</td>\n",
       "      <td>0</td>\n",
       "      <td>0</td>\n",
       "      <td>0</td>\n",
       "      <td>0</td>\n",
       "      <td>US</td>\n",
       "    </tr>\n",
       "    <tr>\n",
       "      <th>3</th>\n",
       "      <td>1386</td>\n",
       "      <td>1967</td>\n",
       "      <td>Graduation</td>\n",
       "      <td>Together</td>\n",
       "      <td>$32,474.00</td>\n",
       "      <td>1</td>\n",
       "      <td>1</td>\n",
       "      <td>5/11/14</td>\n",
       "      <td>0</td>\n",
       "      <td>10</td>\n",
       "      <td>...</td>\n",
       "      <td>2</td>\n",
       "      <td>7</td>\n",
       "      <td>0</td>\n",
       "      <td>0</td>\n",
       "      <td>0</td>\n",
       "      <td>0</td>\n",
       "      <td>0</td>\n",
       "      <td>0</td>\n",
       "      <td>0</td>\n",
       "      <td>AUS</td>\n",
       "    </tr>\n",
       "    <tr>\n",
       "      <th>4</th>\n",
       "      <td>5371</td>\n",
       "      <td>1989</td>\n",
       "      <td>Graduation</td>\n",
       "      <td>Single</td>\n",
       "      <td>$21,474.00</td>\n",
       "      <td>1</td>\n",
       "      <td>0</td>\n",
       "      <td>4/8/14</td>\n",
       "      <td>0</td>\n",
       "      <td>6</td>\n",
       "      <td>...</td>\n",
       "      <td>2</td>\n",
       "      <td>7</td>\n",
       "      <td>1</td>\n",
       "      <td>0</td>\n",
       "      <td>0</td>\n",
       "      <td>0</td>\n",
       "      <td>0</td>\n",
       "      <td>1</td>\n",
       "      <td>0</td>\n",
       "      <td>SP</td>\n",
       "    </tr>\n",
       "  </tbody>\n",
       "</table>\n",
       "<p>5 rows × 28 columns</p>\n",
       "</div>"
      ],
      "text/plain": [
       "      ID  Year_Birth   Education Marital_Status      Income   Kidhome  \\\n",
       "0   1826        1970  Graduation       Divorced  $84,835.00         0   \n",
       "1      1        1961  Graduation         Single  $57,091.00         0   \n",
       "2  10476        1958  Graduation        Married  $67,267.00         0   \n",
       "3   1386        1967  Graduation       Together  $32,474.00         1   \n",
       "4   5371        1989  Graduation         Single  $21,474.00         1   \n",
       "\n",
       "   Teenhome Dt_Customer  Recency  MntWines  ...  NumStorePurchases  \\\n",
       "0         0     6/16/14        0       189  ...                  6   \n",
       "1         0     6/15/14        0       464  ...                  7   \n",
       "2         1     5/13/14        0       134  ...                  5   \n",
       "3         1     5/11/14        0        10  ...                  2   \n",
       "4         0      4/8/14        0         6  ...                  2   \n",
       "\n",
       "   NumWebVisitsMonth  AcceptedCmp3  AcceptedCmp4  AcceptedCmp5  AcceptedCmp1  \\\n",
       "0                  1             0             0             0             0   \n",
       "1                  5             0             0             0             0   \n",
       "2                  2             0             0             0             0   \n",
       "3                  7             0             0             0             0   \n",
       "4                  7             1             0             0             0   \n",
       "\n",
       "   AcceptedCmp2  Response  Complain  Country  \n",
       "0             0         1         0       SP  \n",
       "1             1         1         0       CA  \n",
       "2             0         0         0       US  \n",
       "3             0         0         0      AUS  \n",
       "4             0         1         0       SP  \n",
       "\n",
       "[5 rows x 28 columns]"
      ]
     },
     "execution_count": 6,
     "metadata": {},
     "output_type": "execute_result"
    }
   ],
   "source": [
    "data2.head()"
   ]
  },
  {
   "cell_type": "code",
   "execution_count": null,
   "id": "5bd72a25",
   "metadata": {},
   "outputs": [],
   "source": []
  },
  {
   "cell_type": "code",
   "execution_count": null,
   "id": "9230a45c",
   "metadata": {},
   "outputs": [],
   "source": []
  },
  {
   "cell_type": "code",
   "execution_count": null,
   "id": "55b6a888",
   "metadata": {},
   "outputs": [],
   "source": []
  },
  {
   "cell_type": "code",
   "execution_count": null,
   "id": "8229cf33",
   "metadata": {},
   "outputs": [],
   "source": []
  },
  {
   "cell_type": "code",
   "execution_count": null,
   "id": "4014c31d",
   "metadata": {},
   "outputs": [],
   "source": []
  },
  {
   "cell_type": "code",
   "execution_count": null,
   "id": "45d5dc73",
   "metadata": {},
   "outputs": [],
   "source": []
  },
  {
   "cell_type": "code",
   "execution_count": null,
   "id": "0091a903",
   "metadata": {},
   "outputs": [],
   "source": []
  },
  {
   "cell_type": "code",
   "execution_count": null,
   "id": "56955298",
   "metadata": {},
   "outputs": [],
   "source": []
  },
  {
   "cell_type": "code",
   "execution_count": null,
   "id": "05688451",
   "metadata": {},
   "outputs": [],
   "source": []
  },
  {
   "cell_type": "code",
   "execution_count": null,
   "id": "18e84f69",
   "metadata": {},
   "outputs": [],
   "source": []
  },
  {
   "cell_type": "code",
   "execution_count": null,
   "id": "11225a58",
   "metadata": {},
   "outputs": [],
   "source": []
  },
  {
   "cell_type": "code",
   "execution_count": null,
   "id": "457ef0b9",
   "metadata": {},
   "outputs": [],
   "source": []
  },
  {
   "cell_type": "code",
   "execution_count": null,
   "id": "b15f5a8f",
   "metadata": {},
   "outputs": [],
   "source": []
  },
  {
   "cell_type": "code",
   "execution_count": null,
   "id": "9cca704f",
   "metadata": {},
   "outputs": [],
   "source": []
  },
  {
   "cell_type": "code",
   "execution_count": null,
   "id": "6ba5d6a2",
   "metadata": {},
   "outputs": [],
   "source": []
  },
  {
   "cell_type": "code",
   "execution_count": null,
   "id": "18377f7e",
   "metadata": {},
   "outputs": [],
   "source": []
  },
  {
   "cell_type": "code",
   "execution_count": null,
   "id": "40207f59",
   "metadata": {},
   "outputs": [],
   "source": []
  },
  {
   "cell_type": "code",
   "execution_count": null,
   "id": "a814aa19",
   "metadata": {},
   "outputs": [],
   "source": []
  },
  {
   "cell_type": "code",
   "execution_count": null,
   "id": "e45c9b82",
   "metadata": {},
   "outputs": [],
   "source": []
  },
  {
   "cell_type": "code",
   "execution_count": null,
   "id": "2f951989",
   "metadata": {},
   "outputs": [],
   "source": []
  }
 ],
 "metadata": {
  "kernelspec": {
   "display_name": "Python 3 (ipykernel)",
   "language": "python",
   "name": "python3"
  },
  "language_info": {
   "codemirror_mode": {
    "name": "ipython",
    "version": 3
   },
   "file_extension": ".py",
   "mimetype": "text/x-python",
   "name": "python",
   "nbconvert_exporter": "python",
   "pygments_lexer": "ipython3",
   "version": "3.11.5"
  }
 },
 "nbformat": 4,
 "nbformat_minor": 5
}
