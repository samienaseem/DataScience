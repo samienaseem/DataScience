{
 "cells": [
  {
   "cell_type": "code",
   "execution_count": 1,
   "id": "bd3b3b32",
   "metadata": {},
   "outputs": [
    {
     "name": "stdout",
     "output_type": "stream",
     "text": [
      "Hello\n"
     ]
    }
   ],
   "source": [
    "print(\"Hello\")"
   ]
  },
  {
   "cell_type": "markdown",
   "id": "1e7ba280",
   "metadata": {},
   "source": [
    "[Markdown cheat sheet](https://www.markdownguide.org/cheat-sheet/) \n",
    "\n",
    "To Run any code use Shift + Enter\n"
   ]
  },
  {
   "cell_type": "code",
   "execution_count": 2,
   "id": "1484bba4",
   "metadata": {},
   "outputs": [
    {
     "name": "stdout",
     "output_type": "stream",
     "text": [
      "Machine Learning Data science AI Deep Learning\n"
     ]
    }
   ],
   "source": [
    "#by default it gives space as a seperator\n",
    "print(\"Machine Learning\",'Data science','AI','Deep Learning')"
   ]
  },
  {
   "cell_type": "code",
   "execution_count": 63,
   "id": "d35f4048",
   "metadata": {},
   "outputs": [
    {
     "name": "stdout",
     "output_type": "stream",
     "text": [
      "Machine Learning, Data science, AI, Deep Learning\n"
     ]
    }
   ],
   "source": [
    "#to overrite seprator we use sep=\"\" of print function\n",
    "print(\"Machine Learning\",'Data science','AI','Deep Learning',sep=\", \")"
   ]
  },
  {
   "cell_type": "code",
   "execution_count": 64,
   "id": "2edc14ae",
   "metadata": {},
   "outputs": [],
   "source": [
    "print?"
   ]
  },
  {
   "cell_type": "markdown",
   "id": "53fc8130",
   "metadata": {},
   "source": [
    "Keywords are researve words that cannot be used as varaible \n",
    "ex if, break, else, elif etc\n",
    "### list of keywords\n",
    "> ['False', 'None', 'True', 'and', 'as', 'assert', 'async', 'await', 'break', 'class', 'continue', 'def', 'del', 'elif', 'else', 'except', 'finally', 'for', 'from', 'global', 'if', 'import', 'in', 'is', 'lambda', 'nonlocal', 'not', 'or', 'pass', 'raise', 'return', 'try', 'while', 'with', 'yield']"
   ]
  },
  {
   "cell_type": "code",
   "execution_count": 3,
   "id": "20ba66bb",
   "metadata": {},
   "outputs": [
    {
     "name": "stdout",
     "output_type": "stream",
     "text": [
      "['False', 'None', 'True', 'and', 'as', 'assert', 'async', 'await', 'break', 'class', 'continue', 'def', 'del', 'elif', 'else', 'except', 'finally', 'for', 'from', 'global', 'if', 'import', 'in', 'is', 'lambda', 'nonlocal', 'not', 'or', 'pass', 'raise', 'return', 'try', 'while', 'with', 'yield']\n"
     ]
    }
   ],
   "source": [
    "import keyword\n",
    "print(keyword.kwlist)"
   ]
  },
  {
   "cell_type": "markdown",
   "id": "9276b59d",
   "metadata": {},
   "source": [
    "### Data Types\n",
    "- int\n",
    "- float\n",
    "- str\n",
    "- bool\n",
    "- None"
   ]
  },
  {
   "cell_type": "code",
   "execution_count": 4,
   "id": "1c796215",
   "metadata": {},
   "outputs": [],
   "source": [
    "iphone=799.99"
   ]
  },
  {
   "cell_type": "code",
   "execution_count": 5,
   "id": "4b1db62a",
   "metadata": {},
   "outputs": [
    {
     "data": {
      "text/plain": [
       "799.99"
      ]
     },
     "execution_count": 5,
     "metadata": {},
     "output_type": "execute_result"
    }
   ],
   "source": [
    "iphone"
   ]
  },
  {
   "cell_type": "markdown",
   "id": "6765339f",
   "metadata": {},
   "source": [
    "### Type Conversion\n"
   ]
  },
  {
   "cell_type": "code",
   "execution_count": 6,
   "id": "e59b3c2a",
   "metadata": {},
   "outputs": [
    {
     "data": {
      "text/plain": [
       "'799.99'"
      ]
     },
     "execution_count": 6,
     "metadata": {},
     "output_type": "execute_result"
    }
   ],
   "source": [
    "str(iphone)"
   ]
  },
  {
   "cell_type": "markdown",
   "id": "c860c292",
   "metadata": {},
   "source": [
    "### Input from user"
   ]
  },
  {
   "cell_type": "code",
   "execution_count": 7,
   "id": "59db3a08",
   "metadata": {},
   "outputs": [
    {
     "name": "stdout",
     "output_type": "stream",
     "text": [
      "enter your name : samar\n"
     ]
    }
   ],
   "source": [
    "name=input(\"enter your name : \")"
   ]
  },
  {
   "cell_type": "code",
   "execution_count": 8,
   "id": "0613d928",
   "metadata": {},
   "outputs": [
    {
     "name": "stdout",
     "output_type": "stream",
     "text": [
      "samar\n"
     ]
    }
   ],
   "source": [
    "print(name)"
   ]
  },
  {
   "cell_type": "code",
   "execution_count": 9,
   "id": "8c2d5a62",
   "metadata": {},
   "outputs": [
    {
     "data": {
      "text/plain": [
       "str"
      ]
     },
     "execution_count": 9,
     "metadata": {},
     "output_type": "execute_result"
    }
   ],
   "source": [
    "type(name)"
   ]
  },
  {
   "cell_type": "code",
   "execution_count": 10,
   "id": "520f801c",
   "metadata": {},
   "outputs": [
    {
     "name": "stdout",
     "output_type": "stream",
     "text": [
      "welcome samar\n"
     ]
    }
   ],
   "source": [
    "print('welcome',name)"
   ]
  },
  {
   "cell_type": "markdown",
   "id": "c27dbffd",
   "metadata": {},
   "source": [
    "salary=50000+exp*20000"
   ]
  },
  {
   "cell_type": "code",
   "execution_count": 13,
   "id": "de870390",
   "metadata": {},
   "outputs": [
    {
     "name": "stdout",
     "output_type": "stream",
     "text": [
      "Enter your experience: 3.3\n"
     ]
    }
   ],
   "source": [
    "exp=float(input('Enter your experience: '))"
   ]
  },
  {
   "cell_type": "code",
   "execution_count": 14,
   "id": "37f33c8f",
   "metadata": {},
   "outputs": [
    {
     "name": "stdout",
     "output_type": "stream",
     "text": [
      "116000.0\n"
     ]
    }
   ],
   "source": [
    "salary=50000+exp*20000\n",
    "print(salary)"
   ]
  },
  {
   "cell_type": "markdown",
   "id": "5434c3a7",
   "metadata": {},
   "source": [
    "### Operator Expression"
   ]
  },
  {
   "cell_type": "code",
   "execution_count": 36,
   "id": "8813d2d7",
   "metadata": {},
   "outputs": [],
   "source": [
    "no1=2\n",
    "no2=3"
   ]
  },
  {
   "cell_type": "code",
   "execution_count": 37,
   "id": "73ba7bc2",
   "metadata": {},
   "outputs": [],
   "source": [
    "add=no1+no2\n",
    "div=no1/no2\n",
    "f_div=no1//no2\n",
    "exp=no1**no2"
   ]
  },
  {
   "cell_type": "code",
   "execution_count": 25,
   "id": "654a203a",
   "metadata": {},
   "outputs": [
    {
     "name": "stdout",
     "output_type": "stream",
     "text": [
      "a+b=13\n"
     ]
    }
   ],
   "source": [
    "print('a+b={}'.format(add))"
   ]
  },
  {
   "cell_type": "code",
   "execution_count": 38,
   "id": "5e0e6151",
   "metadata": {},
   "outputs": [
    {
     "name": "stdout",
     "output_type": "stream",
     "text": [
      "2+3 = 5\n",
      "2/3 = 0.6666666666666666\n",
      "2//3 = 0\n",
      "2**3 = 8\n"
     ]
    }
   ],
   "source": [
    "print('{}+{} = {}'.format(no1,no2,add))\n",
    "print('{}/{} = {}'.format(no1,no2,div))\n",
    "print('{}//{} = {}'.format(no1,no2,f_div))\n",
    "print('{}**{} = {}'.format(no1,no2,exp))"
   ]
  },
  {
   "cell_type": "code",
   "execution_count": 27,
   "id": "6a40b7f1",
   "metadata": {},
   "outputs": [
    {
     "name": "stdout",
     "output_type": "stream",
     "text": [
      "no1+no2 = 13\n"
     ]
    }
   ],
   "source": [
    "print('no1+no2 =',add)"
   ]
  },
  {
   "cell_type": "code",
   "execution_count": 39,
   "id": "8e93c107",
   "metadata": {},
   "outputs": [],
   "source": [
    "food_review=\"\"\"\"We visited the place for breakfast and dinner.\n",
    "The place is conveniently located with ample parking space.\n",
    "The food at both the meals was tasty and definetely worth the price.\n",
    "Good quality is served per portion. services is also good.\n",
    "overall, a good place to have food (Both south indian and north indian).\n",
    "would recommand it definitely.\"\"\""
   ]
  },
  {
   "cell_type": "code",
   "execution_count": 41,
   "id": "747288df",
   "metadata": {},
   "outputs": [
    {
     "name": "stdout",
     "output_type": "stream",
     "text": [
      "\"We visited the place for breakfast and dinner.\n",
      "The place is conveniently located with ample parking space.\n",
      "The food at both the meals was tasty and definetely worth the price.\n",
      "Good quality is served per portion. services is also good.\n",
      "overall, a good place to have food (Both south indian and north indian).\n",
      "would recommand it definitely.\n"
     ]
    }
   ],
   "source": [
    "print(food_review)"
   ]
  },
  {
   "cell_type": "code",
   "execution_count": 42,
   "id": "d747d7d2",
   "metadata": {},
   "outputs": [
    {
     "data": {
      "text/plain": [
       "True"
      ]
     },
     "execution_count": 42,
     "metadata": {},
     "output_type": "execute_result"
    }
   ],
   "source": [
    "'good' in food_review"
   ]
  },
  {
   "cell_type": "code",
   "execution_count": 44,
   "id": "b472e44e",
   "metadata": {},
   "outputs": [
    {
     "data": {
      "text/plain": [
       "False"
      ]
     },
     "execution_count": 44,
     "metadata": {},
     "output_type": "execute_result"
    }
   ],
   "source": [
    "\"best\" in food_review"
   ]
  },
  {
   "cell_type": "code",
   "execution_count": 49,
   "id": "6aaeef6d",
   "metadata": {},
   "outputs": [
    {
     "data": {
      "text/plain": [
       "('quality', True)"
      ]
     },
     "execution_count": 49,
     "metadata": {},
     "output_type": "execute_result"
    }
   ],
   "source": [
    "'quality','good' in food_review"
   ]
  },
  {
   "cell_type": "markdown",
   "id": "b27f1b48",
   "metadata": {},
   "source": [
    "### Loops and iteration"
   ]
  },
  {
   "cell_type": "code",
   "execution_count": 62,
   "id": "464aef1d",
   "metadata": {},
   "outputs": [
    {
     "name": "stdout",
     "output_type": "stream",
     "text": [
      "1, 2, 3, 4, 5, 6, 7, 8, 9, "
     ]
    }
   ],
   "source": [
    "i=1\n",
    "\n",
    "#do shift tab to open menu\n",
    "while(i<10):\n",
    "    print(i,end=\", \")\n",
    "    i+=1"
   ]
  },
  {
   "cell_type": "code",
   "execution_count": 77,
   "id": "55327f81",
   "metadata": {},
   "outputs": [
    {
     "name": "stdout",
     "output_type": "stream",
     "text": [
      "*\n",
      "**\n",
      "***\n",
      "****\n",
      "*****\n"
     ]
    }
   ],
   "source": [
    "for i in range(1,6):\n",
    "    j=0\n",
    "    while(j<i):\n",
    "        print('*',end=\"\")\n",
    "        j+=1\n",
    "    print(\"\")"
   ]
  },
  {
   "cell_type": "code",
   "execution_count": 84,
   "id": "081b4c25",
   "metadata": {},
   "outputs": [
    {
     "name": "stdout",
     "output_type": "stream",
     "text": [
      "\n",
      "*\n",
      "**\n",
      "***\n",
      "****\n",
      "*****\n"
     ]
    }
   ],
   "source": [
    "#one loop pattern \n",
    "n=5\n",
    "line=0\n",
    "current_star=0\n",
    "\n",
    "while(line<=5):\n",
    "    if(current_star<line):\n",
    "        print('*',end=\"\")\n",
    "        current_star+=1\n",
    "        continue\n",
    "    \n",
    "    if(current_star==line):\n",
    "        line+=1\n",
    "        current_star=0\n",
    "        print(\"\")\n",
    "        \n",
    "    "
   ]
  },
  {
   "cell_type": "code",
   "execution_count": null,
   "id": "239e25c4",
   "metadata": {},
   "outputs": [],
   "source": [
    "print('hello')"
   ]
  },
  {
   "cell_type": "code",
   "execution_count": 111,
   "id": "ca2811a4",
   "metadata": {},
   "outputs": [
    {
     "name": "stdout",
     "output_type": "stream",
     "text": [
      "0-0-0-0-1,0+0+0+0+\n",
      "0-0-0-2,0+0+0+\n",
      "0-0-3,0+0+\n",
      "0-4,0+\n",
      "5,\n"
     ]
    }
   ],
   "source": [
    "n=m=5\n",
    "i=0\n",
    "line=1\n",
    "count_num=0\n",
    "rev=False\n",
    "value=1\n",
    "while(line<=n):\n",
    "    if(count_num==m-1 and not(rev)):\n",
    "        print(line,end=\",\")\n",
    "        rev=True\n",
    "        continue\n",
    "    else:\n",
    "        if(count_num<n and not(rev)):\n",
    "            print(0,end=\"-\")\n",
    "            count_num+=1\n",
    "            continue\n",
    "        else:\n",
    "            count_num-=1\n",
    "            if(count_num>=0):\n",
    "                print(0,end=\"+\")\n",
    "                continue\n",
    "                \n",
    "            else:\n",
    "                print(\"\")\n",
    "                rev=False\n",
    "                count_num=0\n",
    "                m=m-1\n",
    "    line+=1"
   ]
  },
  {
   "cell_type": "code",
   "execution_count": null,
   "id": "cf056204",
   "metadata": {},
   "outputs": [],
   "source": []
  },
  {
   "cell_type": "code",
   "execution_count": null,
   "id": "80b383aa",
   "metadata": {},
   "outputs": [],
   "source": []
  },
  {
   "cell_type": "code",
   "execution_count": null,
   "id": "fcbdfa45",
   "metadata": {},
   "outputs": [],
   "source": []
  }
 ],
 "metadata": {
  "kernelspec": {
   "display_name": "Python 3 (ipykernel)",
   "language": "python",
   "name": "python3"
  },
  "language_info": {
   "codemirror_mode": {
    "name": "ipython",
    "version": 3
   },
   "file_extension": ".py",
   "mimetype": "text/x-python",
   "name": "python",
   "nbconvert_exporter": "python",
   "pygments_lexer": "ipython3",
   "version": "3.11.5"
  }
 },
 "nbformat": 4,
 "nbformat_minor": 5
}
