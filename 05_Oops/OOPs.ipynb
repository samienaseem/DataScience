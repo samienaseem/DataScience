{
 "cells": [
  {
   "cell_type": "code",
   "execution_count": 1,
   "id": "8b6dba3a",
   "metadata": {},
   "outputs": [],
   "source": [
    "class Human:\n",
    "    pass"
   ]
  },
  {
   "cell_type": "code",
   "execution_count": 2,
   "id": "646b4205",
   "metadata": {},
   "outputs": [],
   "source": [
    "sam=Human()"
   ]
  },
  {
   "cell_type": "code",
   "execution_count": 3,
   "id": "807bd388",
   "metadata": {},
   "outputs": [
    {
     "data": {
      "text/plain": [
       "__main__.Human"
      ]
     },
     "execution_count": 3,
     "metadata": {},
     "output_type": "execute_result"
    }
   ],
   "source": [
    "type(sam)"
   ]
  },
  {
   "cell_type": "code",
   "execution_count": 6,
   "id": "5ac7f91d",
   "metadata": {},
   "outputs": [],
   "source": [
    "#instance Varaible\n",
    "class Human:\n",
    "    #Defining the constructor\n",
    "    def __init__(self,name,age):\n",
    "        self.name1=name\n",
    "        self.age1=age\n",
    "        print(\"A new human is born\", name, age)"
   ]
  },
  {
   "cell_type": "code",
   "execution_count": 7,
   "id": "b50d9ae9",
   "metadata": {},
   "outputs": [
    {
     "name": "stdout",
     "output_type": "stream",
     "text": [
      "A new human is born sam 26\n"
     ]
    }
   ],
   "source": [
    "sam=Human(\"sam\",26)"
   ]
  },
  {
   "cell_type": "code",
   "execution_count": 8,
   "id": "430d0a32",
   "metadata": {},
   "outputs": [
    {
     "data": {
      "text/plain": [
       "26"
      ]
     },
     "execution_count": 8,
     "metadata": {},
     "output_type": "execute_result"
    }
   ],
   "source": [
    "sam.age1"
   ]
  },
  {
   "cell_type": "markdown",
   "id": "fe0c52a4",
   "metadata": {},
   "source": [
    " ### Instance Method"
   ]
  },
  {
   "cell_type": "code",
   "execution_count": 15,
   "id": "f613177f",
   "metadata": {},
   "outputs": [],
   "source": [
    "#instance Varaible\n",
    "class Human:\n",
    "    #Defining the constructor\n",
    "    def __init__(self,name,age):\n",
    "        self.name1=name\n",
    "        self.age1=age\n",
    "        print(\"A new human is born\")\n",
    "        \n",
    "    def introduce(self):\n",
    "        print('my name is {}. I am {} years old'.format(self.name1,self.age1))"
   ]
  },
  {
   "cell_type": "code",
   "execution_count": 16,
   "id": "f7a43b68",
   "metadata": {},
   "outputs": [
    {
     "name": "stdout",
     "output_type": "stream",
     "text": [
      "A new human is born\n",
      "A new human is born\n"
     ]
    }
   ],
   "source": [
    "sam=Human(\"samie\",25)\n",
    "irfan=Human(\"Irfan\",22)"
   ]
  },
  {
   "cell_type": "code",
   "execution_count": 17,
   "id": "fc6a6ca8",
   "metadata": {},
   "outputs": [
    {
     "name": "stdout",
     "output_type": "stream",
     "text": [
      "my name is samie. I am 25 years old\n"
     ]
    }
   ],
   "source": [
    "sam.introduce()"
   ]
  },
  {
   "cell_type": "markdown",
   "id": "2a9e585b",
   "metadata": {},
   "source": [
    "### Class varaible\n"
   ]
  },
  {
   "cell_type": "code",
   "execution_count": 32,
   "id": "e869b9f3",
   "metadata": {},
   "outputs": [],
   "source": [
    "#instance Varaible\n",
    "class Human:\n",
    "    \n",
    "    #class varaible\n",
    "    population=0\n",
    "    \n",
    "    id_seq=101\n",
    "    database=[]\n",
    "    \n",
    "    #Defining the constructor\n",
    "    def __init__(self,name,age,is_alive=True):\n",
    "        self.name1=name\n",
    "        self.age1=age\n",
    "        Human.population+=1\n",
    "        self.alive=is_alive\n",
    "        \n",
    "        self.id=Human.id_seq\n",
    "        Human.id_seq+=1\n",
    "        \n",
    "        Human.database.append(self)\n",
    "        print(\"A new human is born\")\n",
    "        \n",
    "    def introduce(self):\n",
    "        print('my name is {}. I am {} years old'.format(self.name1,self.age1))"
   ]
  },
  {
   "cell_type": "code",
   "execution_count": 33,
   "id": "e894e011",
   "metadata": {},
   "outputs": [
    {
     "name": "stdout",
     "output_type": "stream",
     "text": [
      "A new human is born\n",
      "A new human is born\n"
     ]
    }
   ],
   "source": [
    "sam=Human(\"samie\",25)\n",
    "irfan=Human(\"Irfan\",22)"
   ]
  },
  {
   "cell_type": "code",
   "execution_count": 35,
   "id": "c87cb6b8",
   "metadata": {},
   "outputs": [
    {
     "data": {
      "text/plain": [
       "2"
      ]
     },
     "execution_count": 35,
     "metadata": {},
     "output_type": "execute_result"
    }
   ],
   "source": [
    "Human.population\n"
   ]
  },
  {
   "cell_type": "code",
   "execution_count": 34,
   "id": "f5cf4917",
   "metadata": {},
   "outputs": [
    {
     "data": {
      "text/plain": [
       "[<__main__.Human at 0x10b746d10>, <__main__.Human at 0x10a40dc90>]"
      ]
     },
     "execution_count": 34,
     "metadata": {},
     "output_type": "execute_result"
    }
   ],
   "source": [
    "Human.database"
   ]
  },
  {
   "cell_type": "code",
   "execution_count": 36,
   "id": "9776c494",
   "metadata": {},
   "outputs": [
    {
     "data": {
      "text/plain": [
       "'samie'"
      ]
     },
     "execution_count": 36,
     "metadata": {},
     "output_type": "execute_result"
    }
   ],
   "source": [
    "Human.database[0].name1"
   ]
  },
  {
   "cell_type": "markdown",
   "id": "d7e9c8d5",
   "metadata": {},
   "source": [
    "### Add die()"
   ]
  },
  {
   "cell_type": "code",
   "execution_count": 85,
   "id": "3977037a",
   "metadata": {},
   "outputs": [],
   "source": [
    "#instance Varaible\n",
    "class Human:\n",
    "    \n",
    "    #class varaible\n",
    "    population=0\n",
    "    \n",
    "    id_seq=101\n",
    "    database=[]\n",
    "    \n",
    "    #Defining the constructor\n",
    "    def __init__(self,name,age,is_alive=True):\n",
    "        self.name1=name\n",
    "        self.age1=age\n",
    "        Human.population+=1\n",
    "        self.alive=is_alive\n",
    "        \n",
    "        self.id=Human.id_seq\n",
    "        Human.id_seq+=1\n",
    "        \n",
    "        Human.database.append(self)\n",
    "        print(\"A new human is born\")\n",
    "        \n",
    "    def introduce(self):\n",
    "        print('my name is {}. I am {} years old'.format(self.name1,self.age1))\n",
    "        \n",
    "    def die(self):\n",
    "        if self.alive:\n",
    "            print(\"{} is died\".format(self.name1))\n",
    "            self.alive=False\n",
    "            Human.population-=1\n",
    "            print(Human.population)\n",
    "        else:\n",
    "            print(\"{} is already dead\".format(self.name1))"
   ]
  },
  {
   "cell_type": "code",
   "execution_count": 86,
   "id": "4c4f14d3",
   "metadata": {},
   "outputs": [
    {
     "name": "stdout",
     "output_type": "stream",
     "text": [
      "A new human is born\n"
     ]
    }
   ],
   "source": [
    "sam=Human(\"sam\",25)"
   ]
  },
  {
   "cell_type": "code",
   "execution_count": 77,
   "id": "2aa6c6e7",
   "metadata": {},
   "outputs": [
    {
     "data": {
      "text/plain": [
       "1"
      ]
     },
     "execution_count": 77,
     "metadata": {},
     "output_type": "execute_result"
    }
   ],
   "source": [
    "Human.population"
   ]
  },
  {
   "cell_type": "code",
   "execution_count": 78,
   "id": "7c379d7c",
   "metadata": {},
   "outputs": [
    {
     "data": {
      "text/plain": [
       "1"
      ]
     },
     "execution_count": 78,
     "metadata": {},
     "output_type": "execute_result"
    }
   ],
   "source": [
    "sam.population\n"
   ]
  },
  {
   "cell_type": "code",
   "execution_count": 88,
   "id": "7cfc47dd",
   "metadata": {},
   "outputs": [
    {
     "name": "stdout",
     "output_type": "stream",
     "text": [
      "sam is already dead\n"
     ]
    }
   ],
   "source": [
    "sam.die()"
   ]
  },
  {
   "cell_type": "markdown",
   "id": "f2565a13",
   "metadata": {},
   "source": [
    "### Dunder Methods/Magic Functions"
   ]
  },
  {
   "cell_type": "code",
   "execution_count": 93,
   "id": "ec0e101b",
   "metadata": {},
   "outputs": [],
   "source": [
    "#instance Varaible\n",
    "class Human:\n",
    "    \n",
    "    #class varaible\n",
    "    population=0\n",
    "    \n",
    "    id_seq=101\n",
    "    database=[]\n",
    "    \n",
    "    #Defining the constructor\n",
    "    def __init__(self,name,age,is_alive=True):\n",
    "        self.name1=name\n",
    "        self.age1=age\n",
    "        Human.population+=1\n",
    "        self.alive=is_alive\n",
    "        \n",
    "        self.id=Human.id_seq\n",
    "        Human.id_seq+=1\n",
    "        \n",
    "        Human.database.append(self)\n",
    "        print(\"A new human is born\")\n",
    "        \n",
    "    def introduce(self):\n",
    "        print('my name is {}. I am {} years old'.format(self.name1,self.age1))\n",
    "        \n",
    "    def die(self):\n",
    "        if self.alive:\n",
    "            print(\"{} is died\".format(self.name1))\n",
    "            self.alive=False\n",
    "            Human.population-=1\n",
    "            print(Human.population)\n",
    "        else:\n",
    "            print(\"{} is already dead\".format(self.name1))\n",
    "    \n",
    "    def __repr__(self):\n",
    "        return \"[ {}, {}, {}, {} ]\".format(self.id,self.name1,self.age1,self.alive)"
   ]
  },
  {
   "cell_type": "code",
   "execution_count": 94,
   "id": "f2bcdb10",
   "metadata": {},
   "outputs": [
    {
     "name": "stdout",
     "output_type": "stream",
     "text": [
      "A new human is born\n",
      "A new human is born\n"
     ]
    }
   ],
   "source": [
    "sam=Human(\"samie\",25)\n",
    "irfan=Human(\"Irfan\",22)"
   ]
  },
  {
   "cell_type": "code",
   "execution_count": 95,
   "id": "b13fe008",
   "metadata": {},
   "outputs": [
    {
     "name": "stdout",
     "output_type": "stream",
     "text": [
      "[ 101, samie, 25, True ]\n"
     ]
    }
   ],
   "source": [
    "print(sam)"
   ]
  },
  {
   "cell_type": "markdown",
   "id": "cde1acd3",
   "metadata": {},
   "source": [
    "## Inheritance\n"
   ]
  },
  {
   "cell_type": "code",
   "execution_count": 96,
   "id": "a0ed6c37",
   "metadata": {},
   "outputs": [],
   "source": [
    "class Hitman(Human):\n",
    "    pass"
   ]
  },
  {
   "cell_type": "code",
   "execution_count": 122,
   "id": "6bb1a3ed",
   "metadata": {},
   "outputs": [],
   "source": [
    "#instance Varaible\n",
    "class Human:\n",
    "    \n",
    "    #class varaible\n",
    "    population=0\n",
    "    \n",
    "    id_seq=101\n",
    "    database=[]\n",
    "    \n",
    "    #Defining the constructor\n",
    "    def __init__(self,name,age,is_alive=True):\n",
    "        self.name1=name\n",
    "        self.age1=age\n",
    "        Human.population+=1\n",
    "        self.alive=is_alive\n",
    "        \n",
    "        self.id=Human.id_seq\n",
    "        Human.id_seq+=1\n",
    "        \n",
    "        Human.database.append(self)\n",
    "        print(\"A new human is born\")\n",
    "        \n",
    "    def introduce(self):\n",
    "        print('my name is {}. I am {} years old'.format(self.name1,self.age1))\n",
    "        \n",
    "    def die(self):\n",
    "        if self.alive:\n",
    "            print(\"{} is died\".format(self.name1))\n",
    "            self.alive=False\n",
    "            Human.population-=1\n",
    "            print(Human.population)\n",
    "            return True\n",
    "        else:\n",
    "            print(\"{} is already dead\".format(self.name1))\n",
    "    \n",
    "    def __repr__(self):\n",
    "        return \"[ {}, {}, {}, {} ]\".format(self.id,self.name1,self.age1,self.alive)"
   ]
  },
  {
   "cell_type": "code",
   "execution_count": 130,
   "id": "113b5002",
   "metadata": {},
   "outputs": [],
   "source": [
    "class Hitman(Human):\n",
    "    def __init__(self,name,age):\n",
    "        Human.__init__(self,name,age)\n",
    "        \n",
    "        self.kills=0\n",
    "        self.killList=[]\n",
    "    \n",
    "    #instance method od hitman class\n",
    "    def Kill(self, person):\n",
    "        if person.die():\n",
    "            self.kills+=1\n",
    "            self.killList.append(person)\n",
    "            print(self.killList)"
   ]
  },
  {
   "cell_type": "code",
   "execution_count": 124,
   "id": "629bb3a5",
   "metadata": {},
   "outputs": [
    {
     "name": "stdout",
     "output_type": "stream",
     "text": [
      "A new human is born\n",
      "A new human is born\n"
     ]
    }
   ],
   "source": [
    "sam=Human(\"samie\",25)\n",
    "irfan=Human(\"Irfan\",22)"
   ]
  },
  {
   "cell_type": "code",
   "execution_count": 125,
   "id": "daf6546f",
   "metadata": {},
   "outputs": [
    {
     "name": "stdout",
     "output_type": "stream",
     "text": [
      "A new human is born\n"
     ]
    }
   ],
   "source": [
    "Arif=Human(\"Arifullah\",21)\n"
   ]
  },
  {
   "cell_type": "code",
   "execution_count": 126,
   "id": "152c556f",
   "metadata": {},
   "outputs": [
    {
     "name": "stdout",
     "output_type": "stream",
     "text": [
      "A new human is born\n"
     ]
    }
   ],
   "source": [
    "talib=Hitman(\"Talib\",26)"
   ]
  },
  {
   "cell_type": "code",
   "execution_count": 127,
   "id": "3f0cb24f",
   "metadata": {},
   "outputs": [
    {
     "data": {
      "text/plain": [
       "4"
      ]
     },
     "execution_count": 127,
     "metadata": {},
     "output_type": "execute_result"
    }
   ],
   "source": [
    "Human.population"
   ]
  },
  {
   "cell_type": "code",
   "execution_count": 128,
   "id": "10710499",
   "metadata": {},
   "outputs": [
    {
     "data": {
      "text/plain": [
       "[[ 101, samie, 25, True ],\n",
       " [ 102, Irfan, 22, True ],\n",
       " [ 103, Arifullah, 21, True ],\n",
       " [ 104, Talib, 26, True ]]"
      ]
     },
     "execution_count": 128,
     "metadata": {},
     "output_type": "execute_result"
    }
   ],
   "source": [
    "Human.database"
   ]
  },
  {
   "cell_type": "code",
   "execution_count": 131,
   "id": "da3d6056",
   "metadata": {},
   "outputs": [
    {
     "name": "stdout",
     "output_type": "stream",
     "text": [
      "Talib is already dead\n"
     ]
    }
   ],
   "source": [
    "talib.Kill(talib)"
   ]
  },
  {
   "cell_type": "markdown",
   "id": "62305e4a",
   "metadata": {},
   "source": [
    "#### ---------------------"
   ]
  },
  {
   "cell_type": "code",
   "execution_count": 133,
   "id": "e5ad46a2",
   "metadata": {},
   "outputs": [],
   "source": [
    "#instance Varaible\n",
    "class Human:\n",
    "    \n",
    "    #class varaible\n",
    "    population=0\n",
    "    \n",
    "    id_seq=101\n",
    "    database=[]\n",
    "    \n",
    "    #Defining the constructor\n",
    "    def __init__(self,name,age,is_alive=True):\n",
    "        self.name1=name\n",
    "        self.age1=age\n",
    "        Human.population+=1\n",
    "        self.alive=is_alive\n",
    "        \n",
    "        self.id=Human.id_seq\n",
    "        Human.id_seq+=1\n",
    "        \n",
    "        Human.database.append(self)\n",
    "        print(\"A new human is born\")\n",
    "        \n",
    "    def introduce(self):\n",
    "        print('my name is {}. I am {} years old'.format(self.name1,self.age1))\n",
    "        \n",
    "    def die(self):\n",
    "        if self.alive:\n",
    "            print(\"{} is died\".format(self.name1))\n",
    "            self.alive=False\n",
    "            Human.population-=1\n",
    "            print(Human.population)\n",
    "        else:\n",
    "            print(\"{} is already dead\".format(self.name1))\n",
    "    \n",
    "    def __repr__(self):\n",
    "        return \"[ {}, {}, {}, {} ]\".format(self.id,self.name1,self.age1,self.alive)"
   ]
  },
  {
   "cell_type": "code",
   "execution_count": 132,
   "id": "4716d2c8",
   "metadata": {},
   "outputs": [],
   "source": [
    "class Hitman(Human):\n",
    "    def __init__(self,name,age):\n",
    "        Human.__init__(self,name,age)\n",
    "        \n",
    "        self.kills=0\n",
    "        self.killList=[]\n",
    "    \n",
    "    #instance method od hitman class\n",
    "    def Kill(self, person):\n",
    "        if person.alive:\n",
    "            self.kills+=1\n",
    "            person.die()\n",
    "            self.killList.append(person)\n",
    "            print(self.killList)"
   ]
  },
  {
   "cell_type": "code",
   "execution_count": 134,
   "id": "74dd09bd",
   "metadata": {},
   "outputs": [
    {
     "name": "stdout",
     "output_type": "stream",
     "text": [
      "A new human is born\n",
      "A new human is born\n",
      "A new human is born\n"
     ]
    }
   ],
   "source": [
    "sam=Human(\"samie\",25)\n",
    "irfan=Human(\"Irfan\",22)\n",
    "Arif=Human(\"Arifullah\",21)\n"
   ]
  },
  {
   "cell_type": "code",
   "execution_count": 135,
   "id": "a1ac38fe",
   "metadata": {},
   "outputs": [
    {
     "name": "stdout",
     "output_type": "stream",
     "text": [
      "A new human is born\n"
     ]
    }
   ],
   "source": [
    "talib=Hitman(\"Talib\",26)\n"
   ]
  },
  {
   "cell_type": "code",
   "execution_count": 136,
   "id": "5cf7e37d",
   "metadata": {},
   "outputs": [
    {
     "data": {
      "text/plain": [
       "4"
      ]
     },
     "execution_count": 136,
     "metadata": {},
     "output_type": "execute_result"
    }
   ],
   "source": [
    "Human.population"
   ]
  },
  {
   "cell_type": "code",
   "execution_count": 137,
   "id": "3b347916",
   "metadata": {},
   "outputs": [
    {
     "data": {
      "text/plain": [
       "[[ 101, samie, 25, True ],\n",
       " [ 102, Irfan, 22, True ],\n",
       " [ 103, Arifullah, 21, True ],\n",
       " [ 104, Talib, 26, True ]]"
      ]
     },
     "execution_count": 137,
     "metadata": {},
     "output_type": "execute_result"
    }
   ],
   "source": [
    "Human.database"
   ]
  },
  {
   "cell_type": "code",
   "execution_count": 138,
   "id": "95c6f5c1",
   "metadata": {},
   "outputs": [
    {
     "name": "stdout",
     "output_type": "stream",
     "text": [
      "samie is died\n",
      "3\n",
      "[[ 101, samie, 25, False ]]\n"
     ]
    }
   ],
   "source": [
    "talib.Kill(sam)"
   ]
  },
  {
   "cell_type": "code",
   "execution_count": 139,
   "id": "47a160d5",
   "metadata": {},
   "outputs": [
    {
     "data": {
      "text/plain": [
       "[[ 101, samie, 25, False ],\n",
       " [ 102, Irfan, 22, True ],\n",
       " [ 103, Arifullah, 21, True ],\n",
       " [ 104, Talib, 26, True ]]"
      ]
     },
     "execution_count": 139,
     "metadata": {},
     "output_type": "execute_result"
    }
   ],
   "source": [
    "Human.database"
   ]
  },
  {
   "cell_type": "markdown",
   "id": "cc340856",
   "metadata": {},
   "source": [
    "### MICS"
   ]
  },
  {
   "cell_type": "code",
   "execution_count": 150,
   "id": "c56ddb24",
   "metadata": {},
   "outputs": [],
   "source": [
    "class bank:\n",
    "    def __init__(self):\n",
    "        #to make any variable prvate simply put __ in prefix \n",
    "        self.__acc_no=101\n",
    "        self.__bal=200000\n",
    "\n",
    "    # to get the values of privae variable we need to use getter and setter\n",
    "    def getBal(self):\n",
    "        return self.__acc_no\n",
    "    \n",
    "    #to make a method private\n",
    "    def __increment(self,amount=0):\n",
    "        self.__bal+=amount\n"
   ]
  },
  {
   "cell_type": "code",
   "execution_count": 151,
   "id": "7123cc9e",
   "metadata": {},
   "outputs": [],
   "source": [
    "mybank=bank()"
   ]
  },
  {
   "cell_type": "code",
   "execution_count": 149,
   "id": "860b14b4",
   "metadata": {},
   "outputs": [
    {
     "data": {
      "text/plain": [
       "101"
      ]
     },
     "execution_count": 149,
     "metadata": {},
     "output_type": "execute_result"
    }
   ],
   "source": [
    "mybank.getBal()"
   ]
  },
  {
   "cell_type": "code",
   "execution_count": 152,
   "id": "437917c3",
   "metadata": {},
   "outputs": [
    {
     "ename": "AttributeError",
     "evalue": "'bank' object has no attribute '__increment'",
     "output_type": "error",
     "traceback": [
      "\u001b[0;31m---------------------------------------------------------------------------\u001b[0m",
      "\u001b[0;31mAttributeError\u001b[0m                            Traceback (most recent call last)",
      "Cell \u001b[0;32mIn[152], line 1\u001b[0m\n\u001b[0;32m----> 1\u001b[0m mybank\u001b[38;5;241m.\u001b[39m__increment(\u001b[38;5;241m2000\u001b[39m)\n",
      "\u001b[0;31mAttributeError\u001b[0m: 'bank' object has no attribute '__increment'"
     ]
    }
   ],
   "source": [
    "mybank.__increment(2000)"
   ]
  },
  {
   "cell_type": "code",
   "execution_count": null,
   "id": "2d4ad671",
   "metadata": {},
   "outputs": [],
   "source": []
  },
  {
   "cell_type": "code",
   "execution_count": null,
   "id": "e032f24b",
   "metadata": {},
   "outputs": [],
   "source": []
  },
  {
   "cell_type": "code",
   "execution_count": null,
   "id": "39b2b525",
   "metadata": {},
   "outputs": [],
   "source": []
  },
  {
   "cell_type": "code",
   "execution_count": null,
   "id": "d0e1ea1e",
   "metadata": {},
   "outputs": [],
   "source": []
  },
  {
   "cell_type": "code",
   "execution_count": null,
   "id": "20ad6cfa",
   "metadata": {},
   "outputs": [],
   "source": []
  }
 ],
 "metadata": {
  "kernelspec": {
   "display_name": "Python 3 (ipykernel)",
   "language": "python",
   "name": "python3"
  },
  "language_info": {
   "codemirror_mode": {
    "name": "ipython",
    "version": 3
   },
   "file_extension": ".py",
   "mimetype": "text/x-python",
   "name": "python",
   "nbconvert_exporter": "python",
   "pygments_lexer": "ipython3",
   "version": "3.11.5"
  }
 },
 "nbformat": 4,
 "nbformat_minor": 5
}
