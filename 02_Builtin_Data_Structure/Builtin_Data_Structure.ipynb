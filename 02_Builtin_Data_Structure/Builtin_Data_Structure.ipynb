{
 "cells": [
  {
   "cell_type": "code",
   "execution_count": 1,
   "id": "af75532f",
   "metadata": {},
   "outputs": [],
   "source": [
    "data=\"Samar is studying data science\""
   ]
  },
  {
   "cell_type": "code",
   "execution_count": 2,
   "id": "c402e33a",
   "metadata": {},
   "outputs": [
    {
     "data": {
      "text/plain": [
       "30"
      ]
     },
     "execution_count": 2,
     "metadata": {},
     "output_type": "execute_result"
    }
   ],
   "source": [
    "len(data)"
   ]
  },
  {
   "cell_type": "code",
   "execution_count": 3,
   "id": "1225cee9",
   "metadata": {},
   "outputs": [
    {
     "name": "stdout",
     "output_type": "stream",
     "text": [
      "30\n"
     ]
    }
   ],
   "source": [
    "print(len(data))"
   ]
  },
  {
   "cell_type": "code",
   "execution_count": 4,
   "id": "957bd314",
   "metadata": {},
   "outputs": [
    {
     "data": {
      "text/plain": [
       "str"
      ]
     },
     "execution_count": 4,
     "metadata": {},
     "output_type": "execute_result"
    }
   ],
   "source": [
    "type(data)"
   ]
  },
  {
   "cell_type": "markdown",
   "id": "186eb385",
   "metadata": {},
   "source": [
    "### Negative indexing"
   ]
  },
  {
   "cell_type": "code",
   "execution_count": 5,
   "id": "22f034c7",
   "metadata": {},
   "outputs": [
    {
     "name": "stdout",
     "output_type": "stream",
     "text": [
      "S\n"
     ]
    }
   ],
   "source": [
    "print(data[0])"
   ]
  },
  {
   "cell_type": "code",
   "execution_count": 6,
   "id": "fc58ce44",
   "metadata": {},
   "outputs": [
    {
     "name": "stdout",
     "output_type": "stream",
     "text": [
      "Samar is s\n"
     ]
    }
   ],
   "source": [
    "print(data[0:10])"
   ]
  },
  {
   "cell_type": "code",
   "execution_count": 7,
   "id": "00e1397f",
   "metadata": {},
   "outputs": [
    {
     "name": "stdout",
     "output_type": "stream",
     "text": [
      "e\n"
     ]
    }
   ],
   "source": [
    "print(data[-1])"
   ]
  },
  {
   "cell_type": "code",
   "execution_count": 11,
   "id": "f3f7654b",
   "metadata": {},
   "outputs": [
    {
     "name": "stdout",
     "output_type": "stream",
     "text": [
      "Samar is studying data scienc\n"
     ]
    }
   ],
   "source": [
    "print(data[:-1])"
   ]
  },
  {
   "cell_type": "markdown",
   "id": "272c74ba",
   "metadata": {},
   "source": [
    "### Slicing\n",
    "`data[start_index, end_index+1]`\n",
    "### Samar is studying data science"
   ]
  },
  {
   "cell_type": "code",
   "execution_count": 14,
   "id": "f95166c8",
   "metadata": {},
   "outputs": [
    {
     "name": "stdout",
     "output_type": "stream",
     "text": [
      "Samar i\n"
     ]
    }
   ],
   "source": [
    "print(data[0:7])"
   ]
  },
  {
   "cell_type": "code",
   "execution_count": 15,
   "id": "08460e59",
   "metadata": {},
   "outputs": [
    {
     "name": "stdout",
     "output_type": "stream",
     "text": [
      "Samar is\n"
     ]
    }
   ],
   "source": [
    "print(data[0:7+1])"
   ]
  },
  {
   "cell_type": "code",
   "execution_count": 17,
   "id": "81623dc0",
   "metadata": {},
   "outputs": [
    {
     "name": "stdout",
     "output_type": "stream",
     "text": [
      " ssuy\n"
     ]
    }
   ],
   "source": [
    "#Jump/ step size\n",
    "print(data[5:15:2])"
   ]
  },
  {
   "cell_type": "code",
   "execution_count": 18,
   "id": "3db087e9",
   "metadata": {},
   "outputs": [
    {
     "name": "stdout",
     "output_type": "stream",
     "text": [
      "Sr dgtcc\n"
     ]
    }
   ],
   "source": [
    "print(data[0:len(data):2*2])"
   ]
  },
  {
   "cell_type": "code",
   "execution_count": 12,
   "id": "9449bb26",
   "metadata": {},
   "outputs": [
    {
     "name": "stdout",
     "output_type": "stream",
     "text": [
      "Samar is studying data science\n"
     ]
    }
   ],
   "source": [
    "print(data[:])"
   ]
  },
  {
   "cell_type": "code",
   "execution_count": 19,
   "id": "45087ace",
   "metadata": {},
   "outputs": [
    {
     "name": "stdout",
     "output_type": "stream",
     "text": [
      "ecneics atad gniyduts si ramaS\n"
     ]
    }
   ],
   "source": [
    "print(data[::-1])"
   ]
  },
  {
   "cell_type": "markdown",
   "id": "88052194",
   "metadata": {},
   "source": [
    "### String"
   ]
  },
  {
   "cell_type": "code",
   "execution_count": 20,
   "id": "0af51d24",
   "metadata": {},
   "outputs": [
    {
     "data": {
      "text/plain": [
       "'samar is studying data science'"
      ]
     },
     "execution_count": 20,
     "metadata": {},
     "output_type": "execute_result"
    }
   ],
   "source": [
    "data.lower()"
   ]
  },
  {
   "cell_type": "code",
   "execution_count": 21,
   "id": "9053b038",
   "metadata": {},
   "outputs": [
    {
     "data": {
      "text/plain": [
       "'SAMAR IS STUDYING DATA SCIENCE'"
      ]
     },
     "execution_count": 21,
     "metadata": {},
     "output_type": "execute_result"
    }
   ],
   "source": [
    "data.upper()"
   ]
  },
  {
   "cell_type": "code",
   "execution_count": 22,
   "id": "0bf6f812",
   "metadata": {},
   "outputs": [
    {
     "data": {
      "text/plain": [
       "'Samar Is Studying Data Science'"
      ]
     },
     "execution_count": 22,
     "metadata": {},
     "output_type": "execute_result"
    }
   ],
   "source": [
    "data.title()"
   ]
  },
  {
   "cell_type": "code",
   "execution_count": 24,
   "id": "c2bd5a73",
   "metadata": {},
   "outputs": [
    {
     "data": {
      "text/plain": [
       "True"
      ]
     },
     "execution_count": 24,
     "metadata": {},
     "output_type": "execute_result"
    }
   ],
   "source": [
    "'9'.isdigit()"
   ]
  },
  {
   "cell_type": "code",
   "execution_count": 26,
   "id": "ab305ae9",
   "metadata": {},
   "outputs": [
    {
     "data": {
      "text/plain": [
       "['Samar', 'is', 'studying', 'data', 'science']"
      ]
     },
     "execution_count": 26,
     "metadata": {},
     "output_type": "execute_result"
    }
   ],
   "source": [
    "data.split(' ')"
   ]
  },
  {
   "cell_type": "code",
   "execution_count": 30,
   "id": "9901347c",
   "metadata": {},
   "outputs": [
    {
     "data": {
      "text/plain": [
       "'naseem is studying data science'"
      ]
     },
     "execution_count": 30,
     "metadata": {},
     "output_type": "execute_result"
    }
   ],
   "source": [
    "#case sensitive\n",
    "data.replace('Samar','naseem')"
   ]
  },
  {
   "cell_type": "code",
   "execution_count": 34,
   "id": "33083936",
   "metadata": {},
   "outputs": [],
   "source": [
    "newdata=\"samar, please call samar\""
   ]
  },
  {
   "cell_type": "code",
   "execution_count": 41,
   "id": "f36eb059",
   "metadata": {},
   "outputs": [
    {
     "data": {
      "text/plain": [
       "'samar, please call samar'"
      ]
     },
     "execution_count": 41,
     "metadata": {},
     "output_type": "execute_result"
    }
   ],
   "source": [
    "newdata.replace('samar','samie',0)"
   ]
  },
  {
   "cell_type": "markdown",
   "id": "c4d01d2f",
   "metadata": {},
   "source": [
    "### Lists"
   ]
  },
  {
   "cell_type": "code",
   "execution_count": 44,
   "id": "4176ec25",
   "metadata": {},
   "outputs": [],
   "source": [
    "#Empty lists\n",
    "height=[]\n",
    "height=list()"
   ]
  },
  {
   "cell_type": "markdown",
   "id": "81e8cfc0",
   "metadata": {},
   "source": [
    "### Some important Methods for list\n",
    "- append\n",
    "- insert\n",
    "- pop\n",
    "- remove\n",
    "- reverse\n",
    "- sort\n",
    "- extend\n"
   ]
  },
  {
   "cell_type": "code",
   "execution_count": 47,
   "id": "82781bbb",
   "metadata": {},
   "outputs": [],
   "source": [
    "height=[150,167,175,161,180,172,177]"
   ]
  },
  {
   "cell_type": "code",
   "execution_count": 49,
   "id": "40bb9791",
   "metadata": {},
   "outputs": [],
   "source": [
    "height.append(161)"
   ]
  },
  {
   "cell_type": "code",
   "execution_count": 50,
   "id": "d4c65dc9",
   "metadata": {},
   "outputs": [
    {
     "data": {
      "text/plain": [
       "[150, 167, 175, 161, 180, 172, 177, 161]"
      ]
     },
     "execution_count": 50,
     "metadata": {},
     "output_type": "execute_result"
    }
   ],
   "source": [
    "height"
   ]
  },
  {
   "cell_type": "code",
   "execution_count": 51,
   "id": "d01eaaf8",
   "metadata": {},
   "outputs": [],
   "source": [
    "height.extend([145,178,133,185])"
   ]
  },
  {
   "cell_type": "code",
   "execution_count": 52,
   "id": "c83be633",
   "metadata": {},
   "outputs": [
    {
     "data": {
      "text/plain": [
       "[150, 167, 175, 161, 180, 172, 177, 161, 145, 178, 133, 185]"
      ]
     },
     "execution_count": 52,
     "metadata": {},
     "output_type": "execute_result"
    }
   ],
   "source": [
    "height"
   ]
  },
  {
   "cell_type": "markdown",
   "id": "a864c58a",
   "metadata": {},
   "source": [
    "### List Comprehension"
   ]
  },
  {
   "cell_type": "code",
   "execution_count": 54,
   "id": "1ada12eb",
   "metadata": {},
   "outputs": [],
   "source": [
    "# put all the height in short_height who have height lower than 165 basic method\n",
    "short_height=[]"
   ]
  },
  {
   "cell_type": "code",
   "execution_count": 55,
   "id": "e1850b74",
   "metadata": {},
   "outputs": [],
   "source": [
    "for i in height:\n",
    "    if i < 165:\n",
    "        short_height.append(i)"
   ]
  },
  {
   "cell_type": "code",
   "execution_count": 56,
   "id": "bf4aa191",
   "metadata": {},
   "outputs": [
    {
     "data": {
      "text/plain": [
       "[150, 161, 161, 145, 133]"
      ]
     },
     "execution_count": 56,
     "metadata": {},
     "output_type": "execute_result"
    }
   ],
   "source": [
    "short_height"
   ]
  },
  {
   "cell_type": "code",
   "execution_count": 59,
   "id": "f39a86ad",
   "metadata": {},
   "outputs": [],
   "source": [
    " # short hand \n",
    "short_height=[i for i in height if i < 165]"
   ]
  },
  {
   "cell_type": "code",
   "execution_count": 60,
   "id": "bcc01e0a",
   "metadata": {},
   "outputs": [
    {
     "data": {
      "text/plain": [
       "[150, 161, 161, 145, 133]"
      ]
     },
     "execution_count": 60,
     "metadata": {},
     "output_type": "execute_result"
    }
   ],
   "source": [
    "short_height"
   ]
  },
  {
   "cell_type": "markdown",
   "id": "7e730de4",
   "metadata": {},
   "source": [
    "### Tuples"
   ]
  },
  {
   "cell_type": "code",
   "execution_count": 64,
   "id": "6fe82113",
   "metadata": {},
   "outputs": [],
   "source": [
    "Db=(\"samar@1213134\",\"naseem@1213134\", \"samie@2816\")"
   ]
  },
  {
   "cell_type": "code",
   "execution_count": 66,
   "id": "5232b5a1",
   "metadata": {},
   "outputs": [
    {
     "data": {
      "text/plain": [
       "'samar@1213134'"
      ]
     },
     "execution_count": 66,
     "metadata": {},
     "output_type": "execute_result"
    }
   ],
   "source": [
    "Db[0]"
   ]
  },
  {
   "cell_type": "code",
   "execution_count": 68,
   "id": "744e3e48",
   "metadata": {},
   "outputs": [
    {
     "data": {
      "text/plain": [
       "['samar@1213134', 'naseem@1213134', 'samie@2816']"
      ]
     },
     "execution_count": 68,
     "metadata": {},
     "output_type": "execute_result"
    }
   ],
   "source": [
    "#Convert tuples into list\n",
    "list(Db)"
   ]
  },
  {
   "cell_type": "markdown",
   "id": "b1048199",
   "metadata": {},
   "source": [
    "### Packing and unpacking"
   ]
  },
  {
   "cell_type": "code",
   "execution_count": 69,
   "id": "fb8deebf",
   "metadata": {},
   "outputs": [],
   "source": [
    "#packing\n",
    "salries=1000,500,2000"
   ]
  },
  {
   "cell_type": "code",
   "execution_count": 71,
   "id": "1466fba3",
   "metadata": {},
   "outputs": [
    {
     "data": {
      "text/plain": [
       "tuple"
      ]
     },
     "execution_count": 71,
     "metadata": {},
     "output_type": "execute_result"
    }
   ],
   "source": [
    "type(salries)"
   ]
  },
  {
   "cell_type": "code",
   "execution_count": 72,
   "id": "ff993b18",
   "metadata": {},
   "outputs": [
    {
     "name": "stdout",
     "output_type": "stream",
     "text": [
      "(1000, 500, 2000)\n"
     ]
    }
   ],
   "source": [
    "print(salries)"
   ]
  },
  {
   "cell_type": "code",
   "execution_count": 73,
   "id": "a78b823f",
   "metadata": {},
   "outputs": [],
   "source": [
    "#Unpacking\n",
    "p1_sal,p2_sal,p3_sal=salries"
   ]
  },
  {
   "cell_type": "code",
   "execution_count": 74,
   "id": "db54d1ed",
   "metadata": {},
   "outputs": [
    {
     "name": "stdout",
     "output_type": "stream",
     "text": [
      "1000\n"
     ]
    }
   ],
   "source": [
    "print(p1_sal)"
   ]
  },
  {
   "cell_type": "markdown",
   "id": "449e4b89",
   "metadata": {},
   "source": [
    "## Sets\n",
    "#### Unordered data structure"
   ]
  },
  {
   "cell_type": "code",
   "execution_count": 81,
   "id": "84d40447",
   "metadata": {},
   "outputs": [],
   "source": [
    "#elements=set()\n",
    "\n",
    "elements={3,5,3,2,6,8,5,5,9,1,7,5,4,7}"
   ]
  },
  {
   "cell_type": "code",
   "execution_count": 82,
   "id": "8355e86c",
   "metadata": {},
   "outputs": [
    {
     "data": {
      "text/plain": [
       "set"
      ]
     },
     "execution_count": 82,
     "metadata": {},
     "output_type": "execute_result"
    }
   ],
   "source": [
    "type(elements)"
   ]
  },
  {
   "cell_type": "code",
   "execution_count": 90,
   "id": "c7ab98fc",
   "metadata": {},
   "outputs": [
    {
     "name": "stdout",
     "output_type": "stream",
     "text": [
      "{1, 2, 3, 4, 5, 6, 7, 8, 9, 45}\n"
     ]
    }
   ],
   "source": [
    "print(elements)"
   ]
  },
  {
   "cell_type": "code",
   "execution_count": 84,
   "id": "ff116bcd",
   "metadata": {},
   "outputs": [
    {
     "ename": "TypeError",
     "evalue": "'set' object is not subscriptable",
     "output_type": "error",
     "traceback": [
      "\u001b[0;31m---------------------------------------------------------------------------\u001b[0m",
      "\u001b[0;31mTypeError\u001b[0m                                 Traceback (most recent call last)",
      "Cell \u001b[0;32mIn[84], line 1\u001b[0m\n\u001b[0;32m----> 1\u001b[0m elements[\u001b[38;5;241m0\u001b[39m]\n",
      "\u001b[0;31mTypeError\u001b[0m: 'set' object is not subscriptable"
     ]
    }
   ],
   "source": [
    "elements[0]"
   ]
  },
  {
   "cell_type": "code",
   "execution_count": 88,
   "id": "0306220e",
   "metadata": {},
   "outputs": [
    {
     "data": {
      "text/plain": [
       "True"
      ]
     },
     "execution_count": 88,
     "metadata": {},
     "output_type": "execute_result"
    }
   ],
   "source": [
    "1 in elements"
   ]
  },
  {
   "cell_type": "code",
   "execution_count": 89,
   "id": "3b8cb1af",
   "metadata": {},
   "outputs": [],
   "source": [
    "elements.add(45)"
   ]
  },
  {
   "cell_type": "code",
   "execution_count": 91,
   "id": "fc8f2f64",
   "metadata": {},
   "outputs": [],
   "source": [
    "elements.remove(3)"
   ]
  },
  {
   "cell_type": "code",
   "execution_count": 92,
   "id": "0e4cb837",
   "metadata": {},
   "outputs": [
    {
     "ename": "KeyError",
     "evalue": "3",
     "output_type": "error",
     "traceback": [
      "\u001b[0;31m---------------------------------------------------------------------------\u001b[0m",
      "\u001b[0;31mKeyError\u001b[0m                                  Traceback (most recent call last)",
      "Cell \u001b[0;32mIn[92], line 1\u001b[0m\n\u001b[0;32m----> 1\u001b[0m elements\u001b[38;5;241m.\u001b[39mremove(\u001b[38;5;241m3\u001b[39m)\n",
      "\u001b[0;31mKeyError\u001b[0m: 3"
     ]
    }
   ],
   "source": [
    "elements.remove(3)"
   ]
  },
  {
   "cell_type": "code",
   "execution_count": 94,
   "id": "69f6bea2",
   "metadata": {},
   "outputs": [],
   "source": [
    "elements.discard(3)#most use in NLP"
   ]
  },
  {
   "cell_type": "markdown",
   "id": "d6a38418",
   "metadata": {},
   "source": [
    "## Dict\n",
    "- unordered"
   ]
  },
  {
   "cell_type": "code",
   "execution_count": 96,
   "id": "9b2d0dbb",
   "metadata": {},
   "outputs": [],
   "source": [
    " emp={\n",
    "     '0001' : 40000,\n",
    "     '0011' : 80000,\n",
    "     '1001' : 30000,\n",
    "     '0111' : 45000\n",
    "     \n",
    " }"
   ]
  },
  {
   "cell_type": "code",
   "execution_count": 97,
   "id": "e4e8c2a0",
   "metadata": {},
   "outputs": [
    {
     "data": {
      "text/plain": [
       "{'0001': 40000, '0011': 80000, '1001': 30000, '0111': 45000}"
      ]
     },
     "execution_count": 97,
     "metadata": {},
     "output_type": "execute_result"
    }
   ],
   "source": [
    "emp"
   ]
  },
  {
   "cell_type": "code",
   "execution_count": 98,
   "id": "632696db",
   "metadata": {},
   "outputs": [
    {
     "data": {
      "text/plain": [
       "40000"
      ]
     },
     "execution_count": 98,
     "metadata": {},
     "output_type": "execute_result"
    }
   ],
   "source": [
    "emp['0001']"
   ]
  },
  {
   "cell_type": "code",
   "execution_count": 102,
   "id": "eda31c92",
   "metadata": {},
   "outputs": [],
   "source": [
    "emp.get('00011')"
   ]
  },
  {
   "cell_type": "code",
   "execution_count": 103,
   "id": "20398a48",
   "metadata": {},
   "outputs": [],
   "source": [
    "#Adding eements to dict\n",
    "emp['999']=95000"
   ]
  },
  {
   "cell_type": "code",
   "execution_count": null,
   "id": "bb2c6ae8",
   "metadata": {},
   "outputs": [],
   "source": []
  },
  {
   "cell_type": "code",
   "execution_count": 104,
   "id": "2f714628",
   "metadata": {},
   "outputs": [
    {
     "data": {
      "text/plain": [
       "{'0001': 40000, '0011': 80000, '1001': 30000, '0111': 45000, '999': 95000}"
      ]
     },
     "execution_count": 104,
     "metadata": {},
     "output_type": "execute_result"
    }
   ],
   "source": [
    "emp"
   ]
  },
  {
   "cell_type": "markdown",
   "id": "0ccdb4b8",
   "metadata": {},
   "source": [
    "### Nested Dictionary"
   ]
  },
  {
   "cell_type": "code",
   "execution_count": 109,
   "id": "ead6e295",
   "metadata": {},
   "outputs": [],
   "source": [
    "Emp_id={\n",
    "    \"HR\":{\n",
    "        '100':40000,\n",
    "        '101':50000,\n",
    "    },\n",
    "    \"Tech\":{\n",
    "        \"101\":60000,\n",
    "        \"103\":70000,\n",
    "        '106':56000,\n",
    "        '119':86000\n",
    "    },\n",
    "    \"Sales\":{\n",
    "        '104':46000,\n",
    "        '109':78000,\n",
    "        '110':90000\n",
    "    }\n",
    "}"
   ]
  },
  {
   "cell_type": "code",
   "execution_count": 108,
   "id": "eeef094d",
   "metadata": {},
   "outputs": [
    {
     "data": {
      "text/plain": [
       "{'HR': {'100': 40000, '101': 50000},\n",
       " 'Tech': {'101': 60000, '103': 70000},\n",
       " 'Sales': {'104': 46000, '109': 78000, '110': 90000}}"
      ]
     },
     "execution_count": 108,
     "metadata": {},
     "output_type": "execute_result"
    }
   ],
   "source": [
    "Emp_id"
   ]
  },
  {
   "cell_type": "code",
   "execution_count": 114,
   "id": "d9099e13",
   "metadata": {},
   "outputs": [],
   "source": [
    "tech_sal=list(Emp_id[\"Tech\"].values())"
   ]
  },
  {
   "cell_type": "code",
   "execution_count": 116,
   "id": "e529914e",
   "metadata": {},
   "outputs": [
    {
     "data": {
      "text/plain": [
       "68000.0"
      ]
     },
     "execution_count": 116,
     "metadata": {},
     "output_type": "execute_result"
    }
   ],
   "source": [
    "sum(tech_sal)/len(tech_sal)"
   ]
  },
  {
   "cell_type": "code",
   "execution_count": null,
   "id": "ffc0dba1",
   "metadata": {},
   "outputs": [],
   "source": [
    "#Finding the highest salary in tech job"
   ]
  },
  {
   "cell_type": "code",
   "execution_count": 117,
   "id": "2647b374",
   "metadata": {},
   "outputs": [
    {
     "data": {
      "text/plain": [
       "86000"
      ]
     },
     "execution_count": 117,
     "metadata": {},
     "output_type": "execute_result"
    }
   ],
   "source": [
    "max(tech_sal)"
   ]
  },
  {
   "cell_type": "code",
   "execution_count": 118,
   "id": "0769967f",
   "metadata": {},
   "outputs": [
    {
     "ename": "AttributeError",
     "evalue": "'list' object has no attribute 'mean'",
     "output_type": "error",
     "traceback": [
      "\u001b[0;31m---------------------------------------------------------------------------\u001b[0m",
      "\u001b[0;31mAttributeError\u001b[0m                            Traceback (most recent call last)",
      "Cell \u001b[0;32mIn[118], line 1\u001b[0m\n\u001b[0;32m----> 1\u001b[0m tech_sal\u001b[38;5;241m.\u001b[39mmean()\n",
      "\u001b[0;31mAttributeError\u001b[0m: 'list' object has no attribute 'mean'"
     ]
    }
   ],
   "source": []
  },
  {
   "cell_type": "code",
   "execution_count": 125,
   "id": "a6e89768",
   "metadata": {},
   "outputs": [
    {
     "data": {
      "text/plain": [
       "{'100': 40000, '101': 50000}"
      ]
     },
     "execution_count": 125,
     "metadata": {},
     "output_type": "execute_result"
    }
   ],
   "source": []
  },
  {
   "cell_type": "code",
   "execution_count": null,
   "id": "da7bed69",
   "metadata": {},
   "outputs": [],
   "source": []
  },
  {
   "cell_type": "code",
   "execution_count": null,
   "id": "4797240c",
   "metadata": {},
   "outputs": [],
   "source": []
  },
  {
   "cell_type": "code",
   "execution_count": null,
   "id": "4ff19797",
   "metadata": {},
   "outputs": [],
   "source": []
  },
  {
   "cell_type": "code",
   "execution_count": null,
   "id": "05e1c4a3",
   "metadata": {},
   "outputs": [],
   "source": []
  },
  {
   "cell_type": "code",
   "execution_count": null,
   "id": "ff3f00de",
   "metadata": {},
   "outputs": [],
   "source": []
  },
  {
   "cell_type": "code",
   "execution_count": null,
   "id": "aa80f97b",
   "metadata": {},
   "outputs": [],
   "source": []
  },
  {
   "cell_type": "code",
   "execution_count": null,
   "id": "109f4f16",
   "metadata": {},
   "outputs": [],
   "source": []
  },
  {
   "cell_type": "code",
   "execution_count": null,
   "id": "6bb5f2ad",
   "metadata": {},
   "outputs": [],
   "source": []
  }
 ],
 "metadata": {
  "kernelspec": {
   "display_name": "Python 3 (ipykernel)",
   "language": "python",
   "name": "python3"
  },
  "language_info": {
   "codemirror_mode": {
    "name": "ipython",
    "version": 3
   },
   "file_extension": ".py",
   "mimetype": "text/x-python",
   "name": "python",
   "nbconvert_exporter": "python",
   "pygments_lexer": "ipython3",
   "version": "3.11.5"
  }
 },
 "nbformat": 4,
 "nbformat_minor": 5
}
