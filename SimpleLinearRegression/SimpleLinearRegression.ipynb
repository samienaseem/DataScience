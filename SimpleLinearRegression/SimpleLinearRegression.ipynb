{
 "cells": [
  {
   "cell_type": "code",
   "execution_count": 8,
   "id": "3bed4291-3f07-46cf-b2c8-ed19de80355f",
   "metadata": {},
   "outputs": [],
   "source": [
    "import pandas as pd\n",
    "import numpy as np\n",
    "import matplotlib.pyplot as plt\n",
    "import seaborn as sns"
   ]
  },
  {
   "cell_type": "code",
   "execution_count": 9,
   "id": "e1e60f0a-2332-4c6b-8b25-c75202797dbd",
   "metadata": {},
   "outputs": [],
   "source": [
    "df=pd.read_csv(\"cars24-car-price.csv\")"
   ]
  },
  {
   "cell_type": "code",
   "execution_count": 30,
   "id": "70fce381-5338-4a33-9770-7e3b706a607f",
   "metadata": {},
   "outputs": [
    {
     "data": {
      "text/html": [
       "<div>\n",
       "<style scoped>\n",
       "    .dataframe tbody tr th:only-of-type {\n",
       "        vertical-align: middle;\n",
       "    }\n",
       "\n",
       "    .dataframe tbody tr th {\n",
       "        vertical-align: top;\n",
       "    }\n",
       "\n",
       "    .dataframe thead th {\n",
       "        text-align: right;\n",
       "    }\n",
       "</style>\n",
       "<table border=\"1\" class=\"dataframe\">\n",
       "  <thead>\n",
       "    <tr style=\"text-align: right;\">\n",
       "      <th></th>\n",
       "      <th>full_name</th>\n",
       "      <th>selling_price</th>\n",
       "      <th>year</th>\n",
       "      <th>seller_type</th>\n",
       "      <th>km_driven</th>\n",
       "      <th>fuel_type</th>\n",
       "      <th>transmission_type</th>\n",
       "      <th>mileage</th>\n",
       "      <th>engine</th>\n",
       "      <th>max_power</th>\n",
       "      <th>seats</th>\n",
       "    </tr>\n",
       "  </thead>\n",
       "  <tbody>\n",
       "    <tr>\n",
       "      <th>11966</th>\n",
       "      <td>Mahindra e2oPlus P6</td>\n",
       "      <td>4.00</td>\n",
       "      <td>2018.0</td>\n",
       "      <td>Dealer</td>\n",
       "      <td>26000</td>\n",
       "      <td>Electric</td>\n",
       "      <td>Automatic</td>\n",
       "      <td>110.0</td>\n",
       "      <td>1476.327401</td>\n",
       "      <td>25.4</td>\n",
       "      <td>4.0</td>\n",
       "    </tr>\n",
       "    <tr>\n",
       "      <th>15684</th>\n",
       "      <td>Mahindra e2o T2</td>\n",
       "      <td>3.60</td>\n",
       "      <td>2015.0</td>\n",
       "      <td>Dealer</td>\n",
       "      <td>42862</td>\n",
       "      <td>Electric</td>\n",
       "      <td>Automatic</td>\n",
       "      <td>120.0</td>\n",
       "      <td>0.000000</td>\n",
       "      <td>25.5</td>\n",
       "      <td>5.0</td>\n",
       "    </tr>\n",
       "    <tr>\n",
       "      <th>17782</th>\n",
       "      <td>Mahindra e2o T2</td>\n",
       "      <td>4.50</td>\n",
       "      <td>2015.0</td>\n",
       "      <td>Dealer</td>\n",
       "      <td>40000</td>\n",
       "      <td>Electric</td>\n",
       "      <td>Automatic</td>\n",
       "      <td>120.0</td>\n",
       "      <td>0.000000</td>\n",
       "      <td>25.5</td>\n",
       "      <td>5.0</td>\n",
       "    </tr>\n",
       "    <tr>\n",
       "      <th>18401</th>\n",
       "      <td>Mahindra e2o Premium</td>\n",
       "      <td>3.25</td>\n",
       "      <td>2013.0</td>\n",
       "      <td>Individual</td>\n",
       "      <td>50000</td>\n",
       "      <td>Electric</td>\n",
       "      <td>Automatic</td>\n",
       "      <td>120.0</td>\n",
       "      <td>0.000000</td>\n",
       "      <td>25.5</td>\n",
       "      <td>5.0</td>\n",
       "    </tr>\n",
       "  </tbody>\n",
       "</table>\n",
       "</div>"
      ],
      "text/plain": [
       "                  full_name  selling_price    year seller_type  km_driven  \\\n",
       "11966   Mahindra e2oPlus P6           4.00  2018.0      Dealer      26000   \n",
       "15684       Mahindra e2o T2           3.60  2015.0      Dealer      42862   \n",
       "17782       Mahindra e2o T2           4.50  2015.0      Dealer      40000   \n",
       "18401  Mahindra e2o Premium           3.25  2013.0  Individual      50000   \n",
       "\n",
       "      fuel_type transmission_type  mileage       engine  max_power  seats  \n",
       "11966  Electric         Automatic    110.0  1476.327401       25.4    4.0  \n",
       "15684  Electric         Automatic    120.0     0.000000       25.5    5.0  \n",
       "17782  Electric         Automatic    120.0     0.000000       25.5    5.0  \n",
       "18401  Electric         Automatic    120.0     0.000000       25.5    5.0  "
      ]
     },
     "execution_count": 30,
     "metadata": {},
     "output_type": "execute_result"
    }
   ],
   "source": [
    "df[(df[\"max_power\"]>15) & (df[\"max_power\"] < 30)]"
   ]
  },
  {
   "cell_type": "code",
   "execution_count": 11,
   "id": "2dcafdaa-f541-486c-b7f0-a02008acae12",
   "metadata": {},
   "outputs": [
    {
     "data": {
      "text/html": [
       "<div>\n",
       "<style scoped>\n",
       "    .dataframe tbody tr th:only-of-type {\n",
       "        vertical-align: middle;\n",
       "    }\n",
       "\n",
       "    .dataframe tbody tr th {\n",
       "        vertical-align: top;\n",
       "    }\n",
       "\n",
       "    .dataframe thead th {\n",
       "        text-align: right;\n",
       "    }\n",
       "</style>\n",
       "<table border=\"1\" class=\"dataframe\">\n",
       "  <thead>\n",
       "    <tr style=\"text-align: right;\">\n",
       "      <th></th>\n",
       "      <th>selling_price</th>\n",
       "      <th>year</th>\n",
       "      <th>km_driven</th>\n",
       "      <th>mileage</th>\n",
       "      <th>engine</th>\n",
       "      <th>max_power</th>\n",
       "      <th>seats</th>\n",
       "    </tr>\n",
       "  </thead>\n",
       "  <tbody>\n",
       "    <tr>\n",
       "      <th>count</th>\n",
       "      <td>19980.000000</td>\n",
       "      <td>19980.000000</td>\n",
       "      <td>1.998000e+04</td>\n",
       "      <td>19980.000000</td>\n",
       "      <td>19980.000000</td>\n",
       "      <td>19980.000000</td>\n",
       "      <td>19980.000000</td>\n",
       "    </tr>\n",
       "    <tr>\n",
       "      <th>mean</th>\n",
       "      <td>7.392066</td>\n",
       "      <td>2014.525125</td>\n",
       "      <td>5.824488e+04</td>\n",
       "      <td>19.347219</td>\n",
       "      <td>1476.327401</td>\n",
       "      <td>97.854443</td>\n",
       "      <td>5.317868</td>\n",
       "    </tr>\n",
       "    <tr>\n",
       "      <th>std</th>\n",
       "      <td>9.103088</td>\n",
       "      <td>3.249185</td>\n",
       "      <td>5.172509e+04</td>\n",
       "      <td>4.620053</td>\n",
       "      <td>520.449398</td>\n",
       "      <td>45.080670</td>\n",
       "      <td>0.835370</td>\n",
       "    </tr>\n",
       "    <tr>\n",
       "      <th>min</th>\n",
       "      <td>0.250000</td>\n",
       "      <td>1991.000000</td>\n",
       "      <td>1.000000e+02</td>\n",
       "      <td>0.000000</td>\n",
       "      <td>0.000000</td>\n",
       "      <td>5.000000</td>\n",
       "      <td>2.000000</td>\n",
       "    </tr>\n",
       "    <tr>\n",
       "      <th>25%</th>\n",
       "      <td>3.400000</td>\n",
       "      <td>2013.000000</td>\n",
       "      <td>3.116425e+04</td>\n",
       "      <td>16.800000</td>\n",
       "      <td>1197.000000</td>\n",
       "      <td>73.900000</td>\n",
       "      <td>5.000000</td>\n",
       "    </tr>\n",
       "    <tr>\n",
       "      <th>50%</th>\n",
       "      <td>5.200000</td>\n",
       "      <td>2015.000000</td>\n",
       "      <td>5.200000e+04</td>\n",
       "      <td>19.160000</td>\n",
       "      <td>1248.000000</td>\n",
       "      <td>86.700000</td>\n",
       "      <td>5.000000</td>\n",
       "    </tr>\n",
       "    <tr>\n",
       "      <th>75%</th>\n",
       "      <td>7.850000</td>\n",
       "      <td>2017.000000</td>\n",
       "      <td>7.400000e+04</td>\n",
       "      <td>22.320000</td>\n",
       "      <td>1582.000000</td>\n",
       "      <td>112.000000</td>\n",
       "      <td>5.000000</td>\n",
       "    </tr>\n",
       "    <tr>\n",
       "      <th>max</th>\n",
       "      <td>395.000000</td>\n",
       "      <td>2021.000000</td>\n",
       "      <td>3.800000e+06</td>\n",
       "      <td>120.000000</td>\n",
       "      <td>6752.000000</td>\n",
       "      <td>626.000000</td>\n",
       "      <td>14.000000</td>\n",
       "    </tr>\n",
       "  </tbody>\n",
       "</table>\n",
       "</div>"
      ],
      "text/plain": [
       "       selling_price          year     km_driven       mileage        engine  \\\n",
       "count   19980.000000  19980.000000  1.998000e+04  19980.000000  19980.000000   \n",
       "mean        7.392066   2014.525125  5.824488e+04     19.347219   1476.327401   \n",
       "std         9.103088      3.249185  5.172509e+04      4.620053    520.449398   \n",
       "min         0.250000   1991.000000  1.000000e+02      0.000000      0.000000   \n",
       "25%         3.400000   2013.000000  3.116425e+04     16.800000   1197.000000   \n",
       "50%         5.200000   2015.000000  5.200000e+04     19.160000   1248.000000   \n",
       "75%         7.850000   2017.000000  7.400000e+04     22.320000   1582.000000   \n",
       "max       395.000000   2021.000000  3.800000e+06    120.000000   6752.000000   \n",
       "\n",
       "          max_power         seats  \n",
       "count  19980.000000  19980.000000  \n",
       "mean      97.854443      5.317868  \n",
       "std       45.080670      0.835370  \n",
       "min        5.000000      2.000000  \n",
       "25%       73.900000      5.000000  \n",
       "50%       86.700000      5.000000  \n",
       "75%      112.000000      5.000000  \n",
       "max      626.000000     14.000000  "
      ]
     },
     "execution_count": 11,
     "metadata": {},
     "output_type": "execute_result"
    }
   ],
   "source": [
    "df.describe()"
   ]
  },
  {
   "cell_type": "code",
   "execution_count": 14,
   "id": "f804b538-70ca-46c8-a8a4-2c6535f0e89e",
   "metadata": {},
   "outputs": [
    {
     "data": {
      "text/plain": [
       "full_name             object\n",
       "selling_price        float64\n",
       "year                 float64\n",
       "seller_type           object\n",
       "km_driven              int64\n",
       "fuel_type             object\n",
       "transmission_type     object\n",
       "mileage              float64\n",
       "engine               float64\n",
       "max_power            float64\n",
       "seats                float64\n",
       "dtype: object"
      ]
     },
     "execution_count": 14,
     "metadata": {},
     "output_type": "execute_result"
    }
   ],
   "source": [
    "df.dtypes"
   ]
  },
  {
   "cell_type": "code",
   "execution_count": 17,
   "id": "ecced06a-51b0-4429-a242-b8dafe6e0a4a",
   "metadata": {},
   "outputs": [
    {
     "data": {
      "text/plain": [
       "<Axes: >"
      ]
     },
     "execution_count": 17,
     "metadata": {},
     "output_type": "execute_result"
    },
    {
     "data": {
      "image/png": "[encoded data removed]",
      "text/plain": [
       "<Figure size 640x480 with 2 Axes>"
      ]
     },
     "metadata": {},
     "output_type": "display_data"
    }
   ],
   "source": [
    "sns.heatmap(df.corr(numeric_only=True),annot=True)"
   ]
  },
  {
   "cell_type": "code",
   "execution_count": 26,
   "id": "6faa1a7a-cb57-4781-be7a-890a87cf08fb",
   "metadata": {},
   "outputs": [
    {
     "name": "stdout",
     "output_type": "stream",
     "text": [
      "Requirement already satisfied: scikit-learn in /Users/samar/anaconda3/lib/python3.11/site-packages (1.2.2)\n",
      "Requirement already satisfied: numpy>=1.17.3 in /Users/samar/anaconda3/lib/python3.11/site-packages (from scikit-learn) (1.25.2)\n",
      "Requirement already satisfied: scipy>=1.3.2 in /Users/samar/anaconda3/lib/python3.11/site-packages (from scikit-learn) (1.11.3)\n",
      "Requirement already satisfied: joblib>=1.1.1 in /Users/samar/anaconda3/lib/python3.11/site-packages (from scikit-learn) (1.3.2)\n",
      "Requirement already satisfied: threadpoolctl>=2.0.0 in /Users/samar/anaconda3/lib/python3.11/site-packages (from scikit-learn) (3.2.0)\n",
      "Note: you may need to restart the kernel to use updated packages.\n"
     ]
    }
   ],
   "source": [
    "pip install scikit-learn\n"
   ]
  },
  {
   "cell_type": "code",
   "execution_count": 27,
   "id": "41bd9273-d2d3-41df-aeb4-26dc2f8b664b",
   "metadata": {},
   "outputs": [],
   "source": [
    "from sklearn.linear_model import LinearRegression"
   ]
  },
  {
   "cell_type": "markdown",
   "id": "ccd76f66-7bcf-443d-89b0-0cee0c6941f7",
   "metadata": {},
   "source": [
    "X is likely a pandas Series (e.g., a column from a DataFrame).\n",
    "\n",
    "The reshape method is not defined for pandas Series, so Python raises an AttributeError.\n",
    "\n",
    "How to Fix It\n",
    "To fix this, you need to convert the pandas Series into a NumPy array first using .values or .to_numpy(), and then use reshape.\n",
    "\n"
   ]
  },
  {
   "cell_type": "code",
   "execution_count": 61,
   "id": "67b5f7a3-522c-4e99-87c4-165cb74a9d0b",
   "metadata": {},
   "outputs": [],
   "source": [
    "X=df['max_power'].values"
   ]
  },
  {
   "cell_type": "code",
   "execution_count": 62,
   "id": "3e220ea2-7e81-46b6-aeb6-bdef2d1be91d",
   "metadata": {},
   "outputs": [
    {
     "data": {
      "text/plain": [
       "(19980,)"
      ]
     },
     "execution_count": 62,
     "metadata": {},
     "output_type": "execute_result"
    }
   ],
   "source": [
    "X.shape"
   ]
  },
  {
   "cell_type": "code",
   "execution_count": 54,
   "id": "09a33b8b-8458-4f33-be3c-7e44778efd29",
   "metadata": {},
   "outputs": [],
   "source": [
    "y=df['selling_price'].values"
   ]
  },
  {
   "cell_type": "code",
   "execution_count": 55,
   "id": "0d1e084f-735d-4dab-b358-fa981aae16cd",
   "metadata": {},
   "outputs": [
    {
     "data": {
      "text/plain": [
       "array([ 1.2 ,  5.5 ,  2.15, ...,  4.25, 12.25, 12.  ])"
      ]
     },
     "execution_count": 55,
     "metadata": {},
     "output_type": "execute_result"
    }
   ],
   "source": [
    "y"
   ]
  },
  {
   "cell_type": "code",
   "execution_count": 72,
   "id": "bfe03b4b-515a-4c61-bb7b-884ba90b1eb8",
   "metadata": {},
   "outputs": [
    {
     "data": {
      "text/plain": [
       "Text(0.5, 0, 'Max_power')"
      ]
     },
     "execution_count": 72,
     "metadata": {},
     "output_type": "execute_result"
    },
    {
     "data": {
      "image/png": "[encoded data removed]",
      "text/plain": [
       "<Figure size 640x480 with 1 Axes>"
      ]
     },
     "metadata": {},
     "output_type": "display_data"
    }
   ],
   "source": [
    "plt.scatter(X,y)\n",
    "plt.xlabel(\"Max_power\")"
   ]
  },
  {
   "cell_type": "code",
   "execution_count": 56,
   "id": "c39b7107-f3c7-413b-998b-c7b0a9c2112b",
   "metadata": {},
   "outputs": [],
   "source": [
    "model= LinearRegression()"
   ]
  },
  {
   "cell_type": "code",
   "execution_count": 57,
   "id": "81954663-be08-41fe-8a0b-e7ff36f59eb6",
   "metadata": {},
   "outputs": [
    {
     "data": {
      "text/html": [
       "<style>#sk-container-id-2 {color: black;background-color: white;}#sk-container-id-2 pre{padding: 0;}#sk-container-id-2 div.sk-toggleable {background-color: white;}#sk-container-id-2 label.sk-toggleable__label {cursor: pointer;display: block;width: 100%;margin-bottom: 0;padding: 0.3em;box-sizing: border-box;text-align: center;}#sk-container-id-2 label.sk-toggleable__label-arrow:before {content: \"▸\";float: left;margin-right: 0.25em;color: #696969;}#sk-container-id-2 label.sk-toggleable__label-arrow:hover:before {color: black;}#sk-container-id-2 div.sk-estimator:hover label.sk-toggleable__label-arrow:before {color: black;}#sk-container-id-2 div.sk-toggleable__content {max-height: 0;max-width: 0;overflow: hidden;text-align: left;background-color: #f0f8ff;}#sk-container-id-2 div.sk-toggleable__content pre {margin: 0.2em;color: black;border-radius: 0.25em;background-color: #f0f8ff;}#sk-container-id-2 input.sk-toggleable__control:checked~div.sk-toggleable__content {max-height: 200px;max-width: 100%;overflow: auto;}#sk-container-id-2 input.sk-toggleable__control:checked~label.sk-toggleable__label-arrow:before {content: \"▾\";}#sk-container-id-2 div.sk-estimator input.sk-toggleable__control:checked~label.sk-toggleable__label {background-color: #d4ebff;}#sk-container-id-2 div.sk-label input.sk-toggleable__control:checked~label.sk-toggleable__label {background-color: #d4ebff;}#sk-container-id-2 input.sk-hidden--visually {border: 0;clip: rect(1px 1px 1px 1px);clip: rect(1px, 1px, 1px, 1px);height: 1px;margin: -1px;overflow: hidden;padding: 0;position: absolute;width: 1px;}#sk-container-id-2 div.sk-estimator {font-family: monospace;background-color: #f0f8ff;border: 1px dotted black;border-radius: 0.25em;box-sizing: border-box;margin-bottom: 0.5em;}#sk-container-id-2 div.sk-estimator:hover {background-color: #d4ebff;}#sk-container-id-2 div.sk-parallel-item::after {content: \"\";width: 100%;border-bottom: 1px solid gray;flex-grow: 1;}#sk-container-id-2 div.sk-label:hover label.sk-toggleable__label {background-color: #d4ebff;}#sk-container-id-2 div.sk-serial::before {content: \"\";position: absolute;border-left: 1px solid gray;box-sizing: border-box;top: 0;bottom: 0;left: 50%;z-index: 0;}#sk-container-id-2 div.sk-serial {display: flex;flex-direction: column;align-items: center;background-color: white;padding-right: 0.2em;padding-left: 0.2em;position: relative;}#sk-container-id-2 div.sk-item {position: relative;z-index: 1;}#sk-container-id-2 div.sk-parallel {display: flex;align-items: stretch;justify-content: center;background-color: white;position: relative;}#sk-container-id-2 div.sk-item::before, #sk-container-id-2 div.sk-parallel-item::before {content: \"\";position: absolute;border-left: 1px solid gray;box-sizing: border-box;top: 0;bottom: 0;left: 50%;z-index: -1;}#sk-container-id-2 div.sk-parallel-item {display: flex;flex-direction: column;z-index: 1;position: relative;background-color: white;}#sk-container-id-2 div.sk-parallel-item:first-child::after {align-self: flex-end;width: 50%;}#sk-container-id-2 div.sk-parallel-item:last-child::after {align-self: flex-start;width: 50%;}#sk-container-id-2 div.sk-parallel-item:only-child::after {width: 0;}#sk-container-id-2 div.sk-dashed-wrapped {border: 1px dashed gray;margin: 0 0.4em 0.5em 0.4em;box-sizing: border-box;padding-bottom: 0.4em;background-color: white;}#sk-container-id-2 div.sk-label label {font-family: monospace;font-weight: bold;display: inline-block;line-height: 1.2em;}#sk-container-id-2 div.sk-label-container {text-align: center;}#sk-container-id-2 div.sk-container {/* jupyter's `normalize.less` sets `[hidden] { display: none; }` but bootstrap.min.css set `[hidden] { display: none !important; }` so we also need the `!important` here to be able to override the default hidden behavior on the sphinx rendered scikit-learn.org. See: https://github.com/scikit-learn/scikit-learn/issues/21755 */display: inline-block !important;position: relative;}#sk-container-id-2 div.sk-text-repr-fallback {display: none;}</style><div id=\"sk-container-id-2\" class=\"sk-top-container\"><div class=\"sk-text-repr-fallback\"><pre>LinearRegression()</pre><b>In a Jupyter environment, please rerun this cell to show the HTML representation or trust the notebook. <br />On GitHub, the HTML representation is unable to render, please try loading this page with nbviewer.org.</b></div><div class=\"sk-container\" hidden><div class=\"sk-item\"><div class=\"sk-estimator sk-toggleable\"><input class=\"sk-toggleable__control sk-hidden--visually\" id=\"sk-estimator-id-2\" type=\"checkbox\" checked><label for=\"sk-estimator-id-2\" class=\"sk-toggleable__label sk-toggleable__label-arrow\">LinearRegression</label><div class=\"sk-toggleable__content\"><pre>LinearRegression()</pre></div></div></div></div></div>"
      ],
      "text/plain": [
       "LinearRegression()"
      ]
     },
     "execution_count": 57,
     "metadata": {},
     "output_type": "execute_result"
    }
   ],
   "source": [
    "model"
   ]
  },
  {
   "cell_type": "code",
   "execution_count": 58,
   "id": "bfb6be56-3753-4bae-bcdb-c5be51d36b2a",
   "metadata": {},
   "outputs": [
    {
     "data": {
      "text/plain": [
       "(19980,)"
      ]
     },
     "execution_count": 58,
     "metadata": {},
     "output_type": "execute_result"
    }
   ],
   "source": [
    "X.shape"
   ]
  },
  {
   "cell_type": "code",
   "execution_count": 59,
   "id": "8db50b86-5024-4f9e-9664-0c7b579432dc",
   "metadata": {},
   "outputs": [],
   "source": [
    "X=X.reshape(-1,1)"
   ]
  },
  {
   "cell_type": "code",
   "execution_count": 74,
   "id": "7515f7e3-4131-4aaf-acf7-48d6271fee5f",
   "metadata": {},
   "outputs": [],
   "source": [
    "y=y.reshape(-1,1)"
   ]
  },
  {
   "cell_type": "markdown",
   "id": "8767a35f-bd7d-4364-ab85-c5117bea066a",
   "metadata": {},
   "source": [
    "#### Or"
   ]
  },
  {
   "cell_type": "code",
   "execution_count": 67,
   "id": "a4635087-51df-48bb-8aab-647f08064c8a",
   "metadata": {},
   "outputs": [],
   "source": [
    "X=pd.DataFrame(X)"
   ]
  },
  {
   "cell_type": "code",
   "execution_count": 68,
   "id": "aef77019-f761-423c-8324-8d4e4fb3f3a7",
   "metadata": {},
   "outputs": [
    {
     "data": {
      "text/plain": [
       "(19980, 1)"
      ]
     },
     "execution_count": 68,
     "metadata": {},
     "output_type": "execute_result"
    }
   ],
   "source": [
    "X.shape"
   ]
  },
  {
   "cell_type": "code",
   "execution_count": 75,
   "id": "f0310192-0ab6-417e-a205-9f975274bfb9",
   "metadata": {},
   "outputs": [
    {
     "name": "stderr",
     "output_type": "stream",
     "text": [
      "/Users/samar/anaconda3/lib/python3.11/site-packages/sklearn/utils/validation.py:767: FutureWarning: is_sparse is deprecated and will be removed in a future version. Check `isinstance(dtype, pd.SparseDtype)` instead.\n",
      "  if not hasattr(array, \"sparse\") and array.dtypes.apply(is_sparse).any():\n",
      "/Users/samar/anaconda3/lib/python3.11/site-packages/sklearn/utils/validation.py:605: FutureWarning: is_sparse is deprecated and will be removed in a future version. Check `isinstance(dtype, pd.SparseDtype)` instead.\n",
      "  if is_sparse(pd_dtype):\n",
      "/Users/samar/anaconda3/lib/python3.11/site-packages/sklearn/utils/validation.py:614: FutureWarning: is_sparse is deprecated and will be removed in a future version. Check `isinstance(dtype, pd.SparseDtype)` instead.\n",
      "  if is_sparse(pd_dtype) or not is_extension_array_dtype(pd_dtype):\n"
     ]
    }
   ],
   "source": [
    "model=model.fit(X,y)"
   ]
  },
  {
   "cell_type": "code",
   "execution_count": 78,
   "id": "495d1fa0-62c5-4497-8b2a-1885be61ee0c",
   "metadata": {},
   "outputs": [
    {
     "data": {
      "text/plain": [
       "array([[37.4713034]])"
      ]
     },
     "execution_count": 78,
     "metadata": {},
     "output_type": "execute_result"
    }
   ],
   "source": [
    "model.predict([[301]])"
   ]
  },
  {
   "cell_type": "code",
   "execution_count": null,
   "id": "acef1ffd-bc90-4196-81eb-fab61ec7fbdf",
   "metadata": {},
   "outputs": [],
   "source": []
  }
 ],
 "metadata": {
  "kernelspec": {
   "display_name": "Python 3 (ipykernel)",
   "language": "python",
   "name": "python3"
  },
  "language_info": {
   "codemirror_mode": {
    "name": "ipython",
    "version": 3
   },
   "file_extension": ".py",
   "mimetype": "text/x-python",
   "name": "python",
   "nbconvert_exporter": "python",
   "pygments_lexer": "ipython3",
   "version": "3.11.5"
  }
 },
 "nbformat": 4,
 "nbformat_minor": 5
}
