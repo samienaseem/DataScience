{
 "cells": [
  {
   "cell_type": "code",
   "execution_count": 1,
   "id": "a6f10fb5",
   "metadata": {},
   "outputs": [],
   "source": [
    "data=\"Samar is studying data science\""
   ]
  },
  {
   "cell_type": "code",
   "execution_count": 2,
   "id": "1f4676b4",
   "metadata": {},
   "outputs": [
    {
     "data": {
      "text/plain": [
       "30"
      ]
     },
     "execution_count": 2,
     "metadata": {},
     "output_type": "execute_result"
    }
   ],
   "source": [
    "len(data)"
   ]
  },
  {
   "cell_type": "code",
   "execution_count": 3,
   "id": "b0288aea",
   "metadata": {},
   "outputs": [
    {
     "name": "stdout",
     "output_type": "stream",
     "text": [
      "30\n"
     ]
    }
   ],
   "source": [
    "print(len(data))"
   ]
  },
  {
   "cell_type": "code",
   "execution_count": 4,
   "id": "78526856",
   "metadata": {},
   "outputs": [
    {
     "data": {
      "text/plain": [
       "str"
      ]
     },
     "execution_count": 4,
     "metadata": {},
     "output_type": "execute_result"
    }
   ],
   "source": [
    "type(data)"
   ]
  },
  {
   "cell_type": "markdown",
   "id": "cc551703",
   "metadata": {},
   "source": [
    "### Negative indexing"
   ]
  },
  {
   "cell_type": "code",
   "execution_count": 5,
   "id": "35b2657c",
   "metadata": {},
   "outputs": [
    {
     "name": "stdout",
     "output_type": "stream",
     "text": [
      "S\n"
     ]
    }
   ],
   "source": [
    "print(data[0])"
   ]
  },
  {
   "cell_type": "code",
   "execution_count": 6,
   "id": "3c55f7e5",
   "metadata": {},
   "outputs": [
    {
     "name": "stdout",
     "output_type": "stream",
     "text": [
      "Samar is s\n"
     ]
    }
   ],
   "source": [
    "print(data[0:10])"
   ]
  },
  {
   "cell_type": "code",
   "execution_count": 7,
   "id": "4e0cd52c",
   "metadata": {},
   "outputs": [
    {
     "name": "stdout",
     "output_type": "stream",
     "text": [
      "e\n"
     ]
    }
   ],
   "source": [
    "print(data[-1])"
   ]
  },
  {
   "cell_type": "code",
   "execution_count": 11,
   "id": "79d9b6c6",
   "metadata": {},
   "outputs": [
    {
     "name": "stdout",
     "output_type": "stream",
     "text": [
      "Samar is studying data scienc\n"
     ]
    }
   ],
   "source": [
    "print(data[:-1])"
   ]
  },
  {
   "cell_type": "markdown",
   "id": "5b7b318a",
   "metadata": {},
   "source": [
    "### Slicing\n",
    "`data[start_index, end_index+1]`\n",
    "### Samar is studying data science"
   ]
  },
  {
   "cell_type": "code",
   "execution_count": 14,
   "id": "1180ec76",
   "metadata": {},
   "outputs": [
    {
     "name": "stdout",
     "output_type": "stream",
     "text": [
      "Samar i\n"
     ]
    }
   ],
   "source": [
    "print(data[0:7])"
   ]
  },
  {
   "cell_type": "code",
   "execution_count": 15,
   "id": "3009871d",
   "metadata": {},
   "outputs": [
    {
     "name": "stdout",
     "output_type": "stream",
     "text": [
      "Samar is\n"
     ]
    }
   ],
   "source": [
    "print(data[0:7+1])"
   ]
  },
  {
   "cell_type": "code",
   "execution_count": 17,
   "id": "8393c7c2",
   "metadata": {},
   "outputs": [
    {
     "name": "stdout",
     "output_type": "stream",
     "text": [
      " ssuy\n"
     ]
    }
   ],
   "source": [
    "#Jump/ step size\n",
    "print(data[5:15:2])"
   ]
  },
  {
   "cell_type": "code",
   "execution_count": 18,
   "id": "b706ef3c",
   "metadata": {},
   "outputs": [
    {
     "name": "stdout",
     "output_type": "stream",
     "text": [
      "Sr dgtcc\n"
     ]
    }
   ],
   "source": [
    "print(data[0:len(data):2*2])"
   ]
  },
  {
   "cell_type": "code",
   "execution_count": 12,
   "id": "f903012d",
   "metadata": {},
   "outputs": [
    {
     "name": "stdout",
     "output_type": "stream",
     "text": [
      "Samar is studying data science\n"
     ]
    }
   ],
   "source": [
    "print(data[:])"
   ]
  },
  {
   "cell_type": "code",
   "execution_count": 19,
   "id": "2c3fd308",
   "metadata": {},
   "outputs": [
    {
     "name": "stdout",
     "output_type": "stream",
     "text": [
      "ecneics atad gniyduts si ramaS\n"
     ]
    }
   ],
   "source": [
    "print(data[::-1])"
   ]
  },
  {
   "cell_type": "markdown",
   "id": "a01e2fae",
   "metadata": {},
   "source": [
    "### String"
   ]
  },
  {
   "cell_type": "code",
   "execution_count": 20,
   "id": "71a3be43",
   "metadata": {},
   "outputs": [
    {
     "data": {
      "text/plain": [
       "'samar is studying data science'"
      ]
     },
     "execution_count": 20,
     "metadata": {},
     "output_type": "execute_result"
    }
   ],
   "source": [
    "data.lower()"
   ]
  },
  {
   "cell_type": "code",
   "execution_count": 21,
   "id": "c19e6310",
   "metadata": {},
   "outputs": [
    {
     "data": {
      "text/plain": [
       "'SAMAR IS STUDYING DATA SCIENCE'"
      ]
     },
     "execution_count": 21,
     "metadata": {},
     "output_type": "execute_result"
    }
   ],
   "source": [
    "data.upper()"
   ]
  },
  {
   "cell_type": "code",
   "execution_count": 22,
   "id": "5831699b",
   "metadata": {},
   "outputs": [
    {
     "data": {
      "text/plain": [
       "'Samar Is Studying Data Science'"
      ]
     },
     "execution_count": 22,
     "metadata": {},
     "output_type": "execute_result"
    }
   ],
   "source": [
    "data.title()"
   ]
  },
  {
   "cell_type": "code",
   "execution_count": 24,
   "id": "9eef26ed",
   "metadata": {},
   "outputs": [
    {
     "data": {
      "text/plain": [
       "True"
      ]
     },
     "execution_count": 24,
     "metadata": {},
     "output_type": "execute_result"
    }
   ],
   "source": [
    "'9'.isdigit()"
   ]
  },
  {
   "cell_type": "code",
   "execution_count": 26,
   "id": "5329dd9d",
   "metadata": {},
   "outputs": [
    {
     "data": {
      "text/plain": [
       "['Samar', 'is', 'studying', 'data', 'science']"
      ]
     },
     "execution_count": 26,
     "metadata": {},
     "output_type": "execute_result"
    }
   ],
   "source": [
    "data.split(' ')"
   ]
  },
  {
   "cell_type": "code",
   "execution_count": null,
   "id": "cb039c8a",
   "metadata": {},
   "outputs": [],
   "source": []
  }
 ],
 "metadata": {
  "kernelspec": {
   "display_name": "Python 3 (ipykernel)",
   "language": "python",
   "name": "python3"
  },
  "language_info": {
   "codemirror_mode": {
    "name": "ipython",
    "version": 3
   },
   "file_extension": ".py",
   "mimetype": "text/x-python",
   "name": "python",
   "nbconvert_exporter": "python",
   "pygments_lexer": "ipython3",
   "version": "3.11.5"
  }
 },
 "nbformat": 4,
 "nbformat_minor": 5
}
