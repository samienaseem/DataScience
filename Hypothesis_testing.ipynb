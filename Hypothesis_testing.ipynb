{
 "cells": [
  {
   "cell_type": "code",
   "execution_count": 22,
   "id": "836566de-3fb1-4326-bdd9-47bde509e9eb",
   "metadata": {},
   "outputs": [],
   "source": [
    "import pandas as pd\n",
    "import numpy as np\n",
    "import matplotlib.pyplot as plt\n",
    "import seaborn as sns\n",
    "from scipy import stats"
   ]
  },
  {
   "cell_type": "code",
   "execution_count": 23,
   "id": "e70036ac-3cff-41a8-9b53-24bd57561d99",
   "metadata": {},
   "outputs": [],
   "source": [
    "df=pd.read_csv(\"ab_data.csv\")"
   ]
  },
  {
   "cell_type": "code",
   "execution_count": 24,
   "id": "e9d9b944-7cbd-48b7-a820-44ab42d7e39f",
   "metadata": {},
   "outputs": [
    {
     "data": {
      "text/html": [
       "<div>\n",
       "<style scoped>\n",
       "    .dataframe tbody tr th:only-of-type {\n",
       "        vertical-align: middle;\n",
       "    }\n",
       "\n",
       "    .dataframe tbody tr th {\n",
       "        vertical-align: top;\n",
       "    }\n",
       "\n",
       "    .dataframe thead th {\n",
       "        text-align: right;\n",
       "    }\n",
       "</style>\n",
       "<table border=\"1\" class=\"dataframe\">\n",
       "  <thead>\n",
       "    <tr style=\"text-align: right;\">\n",
       "      <th></th>\n",
       "      <th>user_id</th>\n",
       "      <th>timestamp</th>\n",
       "      <th>group</th>\n",
       "      <th>landing_page</th>\n",
       "      <th>converted</th>\n",
       "    </tr>\n",
       "  </thead>\n",
       "  <tbody>\n",
       "    <tr>\n",
       "      <th>0</th>\n",
       "      <td>851104</td>\n",
       "      <td>2017-01-21 22:11:48.556739</td>\n",
       "      <td>control</td>\n",
       "      <td>old_page</td>\n",
       "      <td>0</td>\n",
       "    </tr>\n",
       "    <tr>\n",
       "      <th>1</th>\n",
       "      <td>804228</td>\n",
       "      <td>2017-01-12 08:01:45.159739</td>\n",
       "      <td>control</td>\n",
       "      <td>old_page</td>\n",
       "      <td>0</td>\n",
       "    </tr>\n",
       "    <tr>\n",
       "      <th>2</th>\n",
       "      <td>661590</td>\n",
       "      <td>2017-01-11 16:55:06.154213</td>\n",
       "      <td>treatment</td>\n",
       "      <td>new_page</td>\n",
       "      <td>0</td>\n",
       "    </tr>\n",
       "    <tr>\n",
       "      <th>3</th>\n",
       "      <td>853541</td>\n",
       "      <td>2017-01-08 18:28:03.143765</td>\n",
       "      <td>treatment</td>\n",
       "      <td>new_page</td>\n",
       "      <td>0</td>\n",
       "    </tr>\n",
       "    <tr>\n",
       "      <th>4</th>\n",
       "      <td>864975</td>\n",
       "      <td>2017-01-21 01:52:26.210827</td>\n",
       "      <td>control</td>\n",
       "      <td>old_page</td>\n",
       "      <td>1</td>\n",
       "    </tr>\n",
       "  </tbody>\n",
       "</table>\n",
       "</div>"
      ],
      "text/plain": [
       "   user_id                   timestamp      group landing_page  converted\n",
       "0   851104  2017-01-21 22:11:48.556739    control     old_page          0\n",
       "1   804228  2017-01-12 08:01:45.159739    control     old_page          0\n",
       "2   661590  2017-01-11 16:55:06.154213  treatment     new_page          0\n",
       "3   853541  2017-01-08 18:28:03.143765  treatment     new_page          0\n",
       "4   864975  2017-01-21 01:52:26.210827    control     old_page          1"
      ]
     },
     "execution_count": 24,
     "metadata": {},
     "output_type": "execute_result"
    }
   ],
   "source": [
    "df.head()"
   ]
  },
  {
   "cell_type": "code",
   "execution_count": 25,
   "id": "57bead48-b2db-4dec-af93-bf5f3ad5db6f",
   "metadata": {},
   "outputs": [
    {
     "data": {
      "text/plain": [
       "(294478, 5)"
      ]
     },
     "execution_count": 25,
     "metadata": {},
     "output_type": "execute_result"
    }
   ],
   "source": [
    "df.shape"
   ]
  },
  {
   "cell_type": "code",
   "execution_count": 26,
   "id": "a457b476-4d08-4e69-acd9-40aedc8b8701",
   "metadata": {},
   "outputs": [
    {
     "data": {
      "text/plain": [
       "user_id  group      landing_page\n",
       "773192   treatment  new_page        2\n",
       "840613   treatment  new_page        1\n",
       "840667   control    old_page        1\n",
       "840666   control    old_page        1\n",
       "840664   treatment  new_page        1\n",
       "                                   ..\n",
       "735267   treatment  new_page        1\n",
       "735268   control    old_page        1\n",
       "735270   control    old_page        1\n",
       "735271   control    old_page        1\n",
       "945999   treatment  new_page        1\n",
       "Name: count, Length: 294477, dtype: int64"
      ]
     },
     "execution_count": 26,
     "metadata": {},
     "output_type": "execute_result"
    }
   ],
   "source": [
    "df[['user_id', 'group', 'landing_page']].value_counts()"
   ]
  },
  {
   "cell_type": "code",
   "execution_count": 47,
   "id": "cb657627-e635-4a9f-912b-20da129be50e",
   "metadata": {},
   "outputs": [
    {
     "data": {
      "text/html": [
       "<div>\n",
       "<style scoped>\n",
       "    .dataframe tbody tr th:only-of-type {\n",
       "        vertical-align: middle;\n",
       "    }\n",
       "\n",
       "    .dataframe tbody tr th {\n",
       "        vertical-align: top;\n",
       "    }\n",
       "\n",
       "    .dataframe thead th {\n",
       "        text-align: right;\n",
       "    }\n",
       "</style>\n",
       "<table border=\"1\" class=\"dataframe\">\n",
       "  <thead>\n",
       "    <tr style=\"text-align: right;\">\n",
       "      <th>landing_page</th>\n",
       "      <th>new_page</th>\n",
       "      <th>old_page</th>\n",
       "    </tr>\n",
       "    <tr>\n",
       "      <th>group</th>\n",
       "      <th></th>\n",
       "      <th></th>\n",
       "    </tr>\n",
       "  </thead>\n",
       "  <tbody>\n",
       "    <tr>\n",
       "      <th>control</th>\n",
       "      <td>1928</td>\n",
       "      <td>145274</td>\n",
       "    </tr>\n",
       "    <tr>\n",
       "      <th>treatment</th>\n",
       "      <td>145311</td>\n",
       "      <td>1965</td>\n",
       "    </tr>\n",
       "  </tbody>\n",
       "</table>\n",
       "</div>"
      ],
      "text/plain": [
       "landing_page  new_page  old_page\n",
       "group                           \n",
       "control           1928    145274\n",
       "treatment       145311      1965"
      ]
     },
     "execution_count": 47,
     "metadata": {},
     "output_type": "execute_result"
    }
   ],
   "source": [
    "pd.crosstab(df['group'], df['landing_page'])"
   ]
  },
  {
   "cell_type": "code",
   "execution_count": 28,
   "id": "20cb451a-710a-408f-86af-347e05b1a6bb",
   "metadata": {},
   "outputs": [],
   "source": [
    "idx_control_newpage=(df['group']=='control') & (df['landing_page']=='new_page')"
   ]
  },
  {
   "cell_type": "code",
   "execution_count": 29,
   "id": "150c9e46-06b1-45c0-b340-0c5eef6020d5",
   "metadata": {},
   "outputs": [],
   "source": [
    "idx_treatment_oldpage=(df['group']=='treatment') & (df['landing_page']=='old_page')"
   ]
  },
  {
   "cell_type": "code",
   "execution_count": 30,
   "id": "cd9af29e-414d-4de2-86a8-ccbc8b909997",
   "metadata": {},
   "outputs": [
    {
     "data": {
      "text/plain": [
       "3893"
      ]
     },
     "execution_count": 30,
     "metadata": {},
     "output_type": "execute_result"
    }
   ],
   "source": [
    "(idx_control_newpage | idx_treatment_oldpage).sum()"
   ]
  },
  {
   "cell_type": "code",
   "execution_count": 31,
   "id": "3d752dd2-a9dc-460d-9940-6b9f9107e0ea",
   "metadata": {},
   "outputs": [
    {
     "data": {
      "text/plain": [
       "0         False\n",
       "1         False\n",
       "2         False\n",
       "3         False\n",
       "4         False\n",
       "          ...  \n",
       "294473    False\n",
       "294474    False\n",
       "294475    False\n",
       "294476    False\n",
       "294477    False\n",
       "Length: 294478, dtype: bool"
      ]
     },
     "execution_count": 31,
     "metadata": {},
     "output_type": "execute_result"
    }
   ],
   "source": [
    "idx_control_newpage"
   ]
  },
  {
   "cell_type": "code",
   "execution_count": 48,
   "id": "ebadac0b-01c1-4dc1-af4c-0ef6b6371c19",
   "metadata": {},
   "outputs": [],
   "source": [
    "df=df[~(idx_control_newpage | idx_treatment_oldpage)]"
   ]
  },
  {
   "cell_type": "code",
   "execution_count": 49,
   "id": "6555df3c-3bad-443c-bc34-8f5facf147d7",
   "metadata": {},
   "outputs": [
    {
     "data": {
      "text/html": [
       "<div>\n",
       "<style scoped>\n",
       "    .dataframe tbody tr th:only-of-type {\n",
       "        vertical-align: middle;\n",
       "    }\n",
       "\n",
       "    .dataframe tbody tr th {\n",
       "        vertical-align: top;\n",
       "    }\n",
       "\n",
       "    .dataframe thead th {\n",
       "        text-align: right;\n",
       "    }\n",
       "</style>\n",
       "<table border=\"1\" class=\"dataframe\">\n",
       "  <thead>\n",
       "    <tr style=\"text-align: right;\">\n",
       "      <th>landing_page</th>\n",
       "      <th>new_page</th>\n",
       "      <th>old_page</th>\n",
       "    </tr>\n",
       "    <tr>\n",
       "      <th>group</th>\n",
       "      <th></th>\n",
       "      <th></th>\n",
       "    </tr>\n",
       "  </thead>\n",
       "  <tbody>\n",
       "    <tr>\n",
       "      <th>control</th>\n",
       "      <td>0</td>\n",
       "      <td>145274</td>\n",
       "    </tr>\n",
       "    <tr>\n",
       "      <th>treatment</th>\n",
       "      <td>145311</td>\n",
       "      <td>0</td>\n",
       "    </tr>\n",
       "  </tbody>\n",
       "</table>\n",
       "</div>"
      ],
      "text/plain": [
       "landing_page  new_page  old_page\n",
       "group                           \n",
       "control              0    145274\n",
       "treatment       145311         0"
      ]
     },
     "execution_count": 49,
     "metadata": {},
     "output_type": "execute_result"
    }
   ],
   "source": [
    "pd.crosstab(df['group'],df['landing_page'])"
   ]
  },
  {
   "cell_type": "code",
   "execution_count": 50,
   "id": "1df58677-bb56-4fe2-812c-7f3799b4b3ca",
   "metadata": {},
   "outputs": [
    {
     "data": {
      "text/plain": [
       "0.11959667567149027"
      ]
     },
     "execution_count": 50,
     "metadata": {},
     "output_type": "execute_result"
    }
   ],
   "source": [
    "df[\"converted\"].mean()"
   ]
  },
  {
   "cell_type": "code",
   "execution_count": 57,
   "id": "c86dd8ed-ea23-4027-b7b2-170ea9849829",
   "metadata": {},
   "outputs": [],
   "source": [
    "pct_control=df[df[\"group\"]==\"control\"]['converted'].mean()*100"
   ]
  },
  {
   "cell_type": "code",
   "execution_count": 58,
   "id": "8688dbeb-791a-4db4-b391-90a67d37958b",
   "metadata": {},
   "outputs": [],
   "source": [
    "pct_treatment=df[df[\"group\"]==\"treatment\"]['converted'].mean()*100"
   ]
  },
  {
   "cell_type": "code",
   "execution_count": 59,
   "id": "f1853f60-532f-4680-b7d7-97433519cfbe",
   "metadata": {},
   "outputs": [
    {
     "data": {
      "text/plain": [
       "(12.03863045004612, 11.880724790277405)"
      ]
     },
     "execution_count": 59,
     "metadata": {},
     "output_type": "execute_result"
    }
   ],
   "source": [
    "pct_control, pct_treatment"
   ]
  },
  {
   "cell_type": "code",
   "execution_count": 60,
   "id": "fd1cc864-b217-4121-b9c7-9143ced55f50",
   "metadata": {},
   "outputs": [],
   "source": [
    "observed_pct= pct_treatment-pct_control"
   ]
  },
  {
   "cell_type": "code",
   "execution_count": 61,
   "id": "0112455f-74c8-4afa-ace5-2208e9fd85ec",
   "metadata": {},
   "outputs": [
    {
     "data": {
      "text/plain": [
       "-0.15790565976871562"
      ]
     },
     "execution_count": 61,
     "metadata": {},
     "output_type": "execute_result"
    }
   ],
   "source": [
    "observed_pct"
   ]
  },
  {
   "cell_type": "markdown",
   "id": "66ab5c75-37ae-440d-884b-cddb218dfa81",
   "metadata": {},
   "source": [
    "### Permutation test"
   ]
  },
  {
   "cell_type": "code",
   "execution_count": 74,
   "id": "af7cef30-75cb-4e77-ba31-b9738fa9ea21",
   "metadata": {},
   "outputs": [
    {
     "data": {
      "text/plain": [
       "array([0, 1, 0, ..., 0, 0, 0])"
      ]
     },
     "execution_count": 74,
     "metadata": {},
     "output_type": "execute_result"
    }
   ],
   "source": [
    "np.random.permutation(df['converted']) "
   ]
  },
  {
   "cell_type": "code",
   "execution_count": 136,
   "id": "3ba0825b-78cf-4dbe-a430-9d71320322dd",
   "metadata": {},
   "outputs": [],
   "source": [
    "n_params=2000\n",
    "perm_pct_diffs=np.zeros(n_params)\n",
    "df_simulation=df.copy()"
   ]
  },
  {
   "cell_type": "code",
   "execution_count": 137,
   "id": "eee82748-d2ea-49d6-a50b-2f9175c8daad",
   "metadata": {},
   "outputs": [],
   "source": [
    "for i in range(n_params):\n",
    "    df_simulation['converted']=np.random.permutation(df['converted'])\n",
    "    pct_control=df_simulation[df_simulation['group']=='control']['converted'].mean()*100\n",
    "    pct_treatment=df_simulation[df_simulation['group']=='treatment']['converted'].mean()*100\n",
    "    perm_diff=pct_treatment-pct_control\n",
    "    perm_pct_diffs[i]=perm_diff\n",
    "    "
   ]
  },
  {
   "cell_type": "code",
   "execution_count": 138,
   "id": "d69254b4-2190-44e5-9b8d-04181aa7ac36",
   "metadata": {},
   "outputs": [
    {
     "data": {
      "text/plain": [
       "(11.923675261918856, 11.995650707792253)"
      ]
     },
     "execution_count": 138,
     "metadata": {},
     "output_type": "execute_result"
    }
   ],
   "source": [
    "pct_control, pct_treatment"
   ]
  },
  {
   "cell_type": "code",
   "execution_count": 139,
   "id": "9dec7bf1-d6de-4c34-a29f-1b614adb123c",
   "metadata": {},
   "outputs": [
    {
     "data": {
      "text/plain": [
       "<Axes: ylabel='Count'>"
      ]
     },
     "execution_count": 139,
     "metadata": {},
     "output_type": "execute_result"
    },
    {
     "data": {
      "image/png": "[encoded data removed]",
      "text/plain": [
       "<Figure size 640x480 with 1 Axes>"
      ]
     },
     "metadata": {},
     "output_type": "display_data"
    }
   ],
   "source": [
    "sns.histplot(perm_pct_diffs,bins=25,kde=True)"
   ]
  },
  {
   "cell_type": "code",
   "execution_count": 140,
   "id": "7546e0ec-9832-4048-b52a-f51314fa528b",
   "metadata": {},
   "outputs": [
    {
     "data": {
      "text/plain": [
       "9.1"
      ]
     },
     "execution_count": 140,
     "metadata": {},
     "output_type": "execute_result"
    }
   ],
   "source": [
    "100*((perm_pct_diffs <= observed_pct).sum()/n_params)"
   ]
  },
  {
   "cell_type": "code",
   "execution_count": null,
   "id": "44932f88-a522-4e10-85b6-b319a4158e38",
   "metadata": {},
   "outputs": [],
   "source": [
    "ss"
   ]
  }
 ],
 "metadata": {
  "kernelspec": {
   "display_name": "Python 3 (ipykernel)",
   "language": "python",
   "name": "python3"
  },
  "language_info": {
   "codemirror_mode": {
    "name": "ipython",
    "version": 3
   },
   "file_extension": ".py",
   "mimetype": "text/x-python",
   "name": "python",
   "nbconvert_exporter": "python",
   "pygments_lexer": "ipython3",
   "version": "3.11.5"
  }
 },
 "nbformat": 4,
 "nbformat_minor": 5
}
