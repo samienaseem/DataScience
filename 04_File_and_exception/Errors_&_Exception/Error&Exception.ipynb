{
 "cells": [
  {
   "cell_type": "code",
   "execution_count": 2,
   "id": "014c28c5",
   "metadata": {},
   "outputs": [],
   "source": [
    "import sys"
   ]
  },
  {
   "cell_type": "code",
   "execution_count": 5,
   "id": "ce9b7fee",
   "metadata": {},
   "outputs": [
    {
     "name": "stdout",
     "output_type": "stream",
     "text": [
      "curr ele : 2\n",
      "result : 2.5\n",
      "----------------------------------------------------------------------------------------------------\n",
      "curr ele : 0\n",
      "error occured : <class 'ZeroDivisionError'>\n",
      "division by zero\n",
      "----------------------------------------------------------------------------------------------------\n",
      "curr ele : hello\n",
      "error occured : <class 'TypeError'>\n",
      "unsupported operand type(s) for /: 'int' and 'str'\n",
      "----------------------------------------------------------------------------------------------------\n",
      "curr ele : None\n",
      "error occured : <class 'TypeError'>\n",
      "unsupported operand type(s) for /: 'int' and 'NoneType'\n",
      "----------------------------------------------------------------------------------------------------\n",
      "1000 LINES OF CODES\n"
     ]
    }
   ],
   "source": [
    "lst=[2,0,'hello',None]\n",
    "\n",
    "for ele in lst:\n",
    "    try:\n",
    "        print('curr ele :', ele )\n",
    "        print('result :', 5/ele)\n",
    "    except Exception as e:\n",
    "        print('error occured :',sys.exc_info()[0])\n",
    "        print(e)\n",
    "    print(\"--\"*50)\n",
    "\n",
    "    \n",
    "print(\"1000 LINES OF CODES\")"
   ]
  },
  {
   "cell_type": "markdown",
   "id": "8a1e6173",
   "metadata": {},
   "source": [
    " ### Catching Specific exception"
   ]
  },
  {
   "cell_type": "code",
   "execution_count": 9,
   "id": "0758c9f4",
   "metadata": {},
   "outputs": [
    {
     "name": "stdout",
     "output_type": "stream",
     "text": [
      "curr ele : 2\n",
      "result : 2.5\n",
      "no exception hurray\n",
      "this will always printed\n",
      "----------------------------------------------------------------------------------------------------\n",
      "curr ele : 0\n",
      "Dont divide by 0 division by zero\n",
      "this will always printed\n",
      "----------------------------------------------------------------------------------------------------\n",
      "curr ele : hello\n",
      "error occured : <class 'TypeError'>\n",
      "unsupported operand type(s) for /: 'int' and 'str'\n",
      "this will always printed\n",
      "----------------------------------------------------------------------------------------------------\n",
      "curr ele : None\n",
      "error occured : <class 'TypeError'>\n",
      "unsupported operand type(s) for /: 'int' and 'NoneType'\n",
      "this will always printed\n",
      "----------------------------------------------------------------------------------------------------\n",
      "1000 LINES OF CODES\n"
     ]
    }
   ],
   "source": [
    "lst=[2,0,'hello',None]\n",
    "\n",
    "for ele in lst:\n",
    "    try:\n",
    "        print('curr ele :', ele )\n",
    "        print('result :', 5/ele)\n",
    "    except ValueError as e:\n",
    "        print('Value Error occured',e)\n",
    "    except ZeroDivisionError as e:\n",
    "        print('Dont divide by 0', e)\n",
    "    except Exception as e:\n",
    "        print('error occured :',sys.exc_info()[0])\n",
    "        print(e)\n",
    "    else:\n",
    "        print('no exception hurray')#run only when there is no exception\n",
    "    finally:\n",
    "        print('this will always printed')\n",
    "        \n",
    "        \n",
    "    print(\"--\"*50)\n",
    "\n",
    "    \n",
    "print(\"1000 LINES OF CODES\")"
   ]
  },
  {
   "cell_type": "markdown",
   "id": "32887f4c",
   "metadata": {},
   "source": [
    "### Raising the custom Exception\n"
   ]
  },
  {
   "cell_type": "code",
   "execution_count": 10,
   "id": "e325636c",
   "metadata": {},
   "outputs": [
    {
     "ename": "Exception",
     "evalue": "You have got a exception",
     "output_type": "error",
     "traceback": [
      "\u001b[0;31m---------------------------------------------------------------------------\u001b[0m",
      "\u001b[0;31mException\u001b[0m                                 Traceback (most recent call last)",
      "Cell \u001b[0;32mIn[10], line 1\u001b[0m\n\u001b[0;32m----> 1\u001b[0m \u001b[38;5;28;01mraise\u001b[39;00m \u001b[38;5;167;01mException\u001b[39;00m(\u001b[38;5;124m'\u001b[39m\u001b[38;5;124mYou have got a exception\u001b[39m\u001b[38;5;124m'\u001b[39m)\n",
      "\u001b[0;31mException\u001b[0m: You have got a exception"
     ]
    }
   ],
   "source": [
    "raise Exception('You have got a exception')"
   ]
  },
  {
   "cell_type": "code",
   "execution_count": 11,
   "id": "301af9c2",
   "metadata": {},
   "outputs": [
    {
     "name": "stdout",
     "output_type": "stream",
     "text": [
      "Enter your namesam\n",
      "Name should be more than 4 character long <class 'Exception'>\n",
      "\n",
      "1000 lines of codes\n"
     ]
    }
   ],
   "source": [
    "try:\n",
    "    name=input(\"Enter your name\")\n",
    "    \n",
    "    if(len(name)<4):\n",
    "        raise Exception(\"Name should be more than 4 character long\")\n",
    "    print(\"Hello and Welcome \", name)\n",
    "except Exception as e:\n",
    "    print(e, sys.exc_info()[0])\n",
    "\n",
    "print('\\n1000 lines of codes')\n",
    "        "
   ]
  },
  {
   "cell_type": "code",
   "execution_count": null,
   "id": "708275c1",
   "metadata": {},
   "outputs": [],
   "source": []
  },
  {
   "cell_type": "code",
   "execution_count": null,
   "id": "8e5521f4",
   "metadata": {},
   "outputs": [],
   "source": []
  },
  {
   "cell_type": "code",
   "execution_count": null,
   "id": "b3fe2cb9",
   "metadata": {},
   "outputs": [],
   "source": []
  },
  {
   "cell_type": "code",
   "execution_count": null,
   "id": "3b8099ff",
   "metadata": {},
   "outputs": [],
   "source": []
  },
  {
   "cell_type": "code",
   "execution_count": null,
   "id": "b12beeb6",
   "metadata": {},
   "outputs": [],
   "source": []
  },
  {
   "cell_type": "code",
   "execution_count": null,
   "id": "4fcdb38f",
   "metadata": {},
   "outputs": [],
   "source": []
  }
 ],
 "metadata": {
  "kernelspec": {
   "display_name": "Python 3 (ipykernel)",
   "language": "python",
   "name": "python3"
  },
  "language_info": {
   "codemirror_mode": {
    "name": "ipython",
    "version": 3
   },
   "file_extension": ".py",
   "mimetype": "text/x-python",
   "name": "python",
   "nbconvert_exporter": "python",
   "pygments_lexer": "ipython3",
   "version": "3.11.5"
  }
 },
 "nbformat": 4,
 "nbformat_minor": 5
}
